{
 "cells": [
  {
   "cell_type": "code",
   "execution_count": 1,
   "id": "997f4b24-ce41-48b2-ad9e-62c381c549ee",
   "metadata": {
    "executionCancelledAt": null,
    "executionTime": 3987,
    "lastExecutedAt": 1745570502244,
    "lastExecutedByKernel": "74d11f65-fc13-4e50-887b-b0ca75574ee2",
    "lastScheduledRunId": null,
    "lastSuccessfullyExecutedCode": "import pandas as pd\n\n# Step 1: Load RNA, protein, and phospho dataframes\nmrna_df = pd.read_csv(\"data_input/mrna.csv\", index_col=0)\nproteo_df = pd.read_csv(\"data_input/proteo.csv\", index_col=0)\nphospho_df = pd.read_csv(\"data_input/phospho.csv\", index_col=0)\nmetadata_df = pd.read_csv(\"data_input/metadata.csv\", index_col=0)\n\n# Strip whitespace from column names\nmrna_df.columns = mrna_df.columns.str.strip()\nproteo_df.columns = proteo_df.columns.str.strip()\nphospho_df.columns = phospho_df.columns.str.strip()\n\n# Step 2: Clean column names for proteomics and phosphoproteomics data\n\n# For proteomics data (remove \"iBAQ \" prefix)\nproteo_df.columns = [col.replace(\"iBAQ \", \"\") for col in proteo_df.columns]\n\n# For phosphoproteomics data (remove \"Intensity \" prefix and \"_phos\" suffix)\nphospho_df.columns = [col.replace(\"Intensity \", \"\").replace(\"_phos\", \"\") for col in phospho_df.columns]\n\n# Step 3: Get sample name lists\nmrna_list = list(mrna_df.columns)\nproteo_list = list(proteo_df.columns)\nphospho_list = list(phospho_df.columns)\n\ncommon_values = set(mrna_list) & set(proteo_list) & set(phospho_list)\nstrings_to_filter = list(common_values)\n\n#strings_to_filter\n\n# Step 5: Filter the dataframes to keep only common samples\nmrna_df_filtered = mrna_df.loc[:, mrna_df.columns.isin(strings_to_filter)]\nproteo_df_filtered = proteo_df.loc[:, proteo_df.columns.isin(strings_to_filter)]\nphospho_df_filtered = phospho_df.loc[:, phospho_df.columns.isin(strings_to_filter)]\n\n# Save filtered dataframes as CSV\nmrna_df_filtered.to_csv(\"data_output/mrna_filtered.csv\")\nphospho_df_filtered.to_csv(\"data_output/phospho_filtered.csv\")\nproteo_df_filtered.to_csv(\"data_output/proteo_filtered.csv\")\n\n#proteo_df_filtered\n#mrna_df_filtered",
    "outputsMetadata": {
     "0": {
      "height": 550,
      "tableState": {
       "customFilter": {
        "const": {
         "type": "boolean",
         "valid": true,
         "value": true
        },
        "id": "f4c3ce51-5b97-433f-84e7-d7dffecf2da6",
        "nodeType": "const"
       }
      },
      "type": "dataFrame"
     }
    }
   },
   "outputs": [],
   "source": [
    "import pandas as pd\n",
    "\n",
    "# Step 1: Load RNA, protein, and phospho dataframes\n",
    "mrna_df = pd.read_csv(\"data_input/mrna.csv\", index_col=0)\n",
    "proteo_df = pd.read_csv(\"data_input/proteo.csv\", index_col=0)\n",
    "phospho_df = pd.read_csv(\"data_input/phospho.csv\", index_col=0)\n",
    "metadata_df = pd.read_csv(\"data_input/metadata.csv\", index_col=0)\n",
    "\n",
    "# Strip whitespace from column names\n",
    "mrna_df.columns = mrna_df.columns.str.strip()\n",
    "proteo_df.columns = proteo_df.columns.str.strip()\n",
    "phospho_df.columns = phospho_df.columns.str.strip()\n",
    "\n",
    "# Step 2: Clean column names for proteomics and phosphoproteomics data\n",
    "\n",
    "# For proteomics data (remove \"iBAQ \" prefix)\n",
    "proteo_df.columns = [col.replace(\"iBAQ \", \"\") for col in proteo_df.columns]\n",
    "\n",
    "# For phosphoproteomics data (remove \"Intensity \" prefix and \"_phos\" suffix)\n",
    "phospho_df.columns = [col.replace(\"Intensity \", \"\").replace(\"_phos\", \"\") for col in phospho_df.columns]\n",
    "\n",
    "# Step 3: Get sample name lists\n",
    "mrna_list = list(mrna_df.columns)\n",
    "proteo_list = list(proteo_df.columns)\n",
    "phospho_list = list(phospho_df.columns)\n",
    "\n",
    "common_values = set(mrna_list) & set(proteo_list) & set(phospho_list)\n",
    "strings_to_filter = list(common_values)\n",
    "\n",
    "#strings_to_filter\n",
    "\n",
    "# Step 5: Filter the dataframes to keep only common samples\n",
    "mrna_df_filtered = mrna_df.loc[:, mrna_df.columns.isin(strings_to_filter)]\n",
    "proteo_df_filtered = proteo_df.loc[:, proteo_df.columns.isin(strings_to_filter)]\n",
    "phospho_df_filtered = phospho_df.loc[:, phospho_df.columns.isin(strings_to_filter)]\n",
    "\n",
    "# Save filtered dataframes as CSV\n",
    "mrna_df_filtered.to_csv(\"data_output/mrna_filtered.csv\")\n",
    "phospho_df_filtered.to_csv(\"data_output/phospho_filtered.csv\")\n",
    "proteo_df_filtered.to_csv(\"data_output/proteo_filtered.csv\")\n",
    "\n",
    "#proteo_df_filtered\n",
    "#mrna_df_filtered"
   ]
  },
  {
   "cell_type": "code",
   "execution_count": 2,
   "id": "cf98c563-eaea-485c-a848-e8091154089d",
   "metadata": {
    "collapsed": true,
    "executionCancelledAt": null,
    "executionTime": 2301,
    "jupyter": {
     "outputs_hidden": true,
     "source_hidden": false
    },
    "lastExecutedAt": 1745570506988,
    "lastExecutedByKernel": "74d11f65-fc13-4e50-887b-b0ca75574ee2",
    "lastScheduledRunId": null,
    "lastSuccessfullyExecutedCode": "# Transpose and clean function\ndef format_expression_matrix(df):\n    df_t = df.T  # Transpose directly\n    df_t.index.name = 'Sample_ID'\n    df_t.columns.name = 'Features'\n    return df_t\n\n\nmrna_df_t = format_expression_matrix(mrna_df_filtered)\nproteo_df_t = format_expression_matrix(proteo_df_filtered)\nphospho_df_t = format_expression_matrix(phospho_df_filtered)\n\n\nmrna_df_t",
    "outputsMetadata": {
     "0": {
      "height": 550,
      "tableState": {
       "customFilter": {
        "const": {
         "type": "boolean",
         "valid": true,
         "value": true
        },
        "id": "f4c3ce51-5b97-433f-84e7-d7dffecf2da6",
        "nodeType": "const"
       }
      },
      "type": "dataFrame"
     }
    }
   },
   "outputs": [],
   "source": [
    "# Transpose and clean function\n",
    "def format_expression_matrix(df):\n",
    "    df_t = df.T  # Transpose directly\n",
    "    df_t.index.name = 'Sample_ID'\n",
    "    df_t.columns.name = 'Features'\n",
    "    return df_t\n",
    "\n",
    "\n",
    "mrna_df_t = format_expression_matrix(mrna_df_filtered)\n",
    "proteo_df_t = format_expression_matrix(proteo_df_filtered)\n",
    "phospho_df_t = format_expression_matrix(phospho_df_filtered)"
   ]
  },
  {
   "cell_type": "code",
   "execution_count": 3,
   "id": "e0b4c217-6a6a-48ac-bf10-4df4c064c39d",
   "metadata": {
    "executionCancelledAt": null,
    "executionTime": null,
    "lastExecutedAt": null,
    "lastExecutedByKernel": null,
    "lastScheduledRunId": null,
    "lastSuccessfullyExecutedCode": null,
    "outputsMetadata": {
     "0": {
      "height": 17,
      "type": "plotly"
     },
     "1": {
      "height": 17,
      "type": "plotly"
     },
     "2": {
      "height": 17,
      "type": "plotly"
     }
    }
   },
   "outputs": [
    {
     "ename": "KeyboardInterrupt",
     "evalue": "",
     "output_type": "error",
     "traceback": [
      "\u001b[31m---------------------------------------------------------------------------\u001b[39m",
      "\u001b[31mKeyboardInterrupt\u001b[39m                         Traceback (most recent call last)",
      "\u001b[36mCell\u001b[39m\u001b[36m \u001b[39m\u001b[32mIn[3]\u001b[39m\u001b[32m, line 2\u001b[39m\n\u001b[32m      1\u001b[39m \u001b[38;5;28;01mimport\u001b[39;00m\u001b[38;5;250m \u001b[39m\u001b[34;01mpandas\u001b[39;00m\u001b[38;5;250m \u001b[39m\u001b[38;5;28;01mas\u001b[39;00m\u001b[38;5;250m \u001b[39m\u001b[34;01mpd\u001b[39;00m\n\u001b[32m----> \u001b[39m\u001b[32m2\u001b[39m \u001b[38;5;28;01mfrom\u001b[39;00m\u001b[38;5;250m \u001b[39m\u001b[34;01msklearn\u001b[39;00m\u001b[34;01m.\u001b[39;00m\u001b[34;01mimpute\u001b[39;00m\u001b[38;5;250m \u001b[39m\u001b[38;5;28;01mimport\u001b[39;00m SimpleImputer\n\u001b[32m      3\u001b[39m \u001b[38;5;28;01mfrom\u001b[39;00m\u001b[38;5;250m \u001b[39m\u001b[34;01msklearn\u001b[39;00m\u001b[34;01m.\u001b[39;00m\u001b[34;01mpreprocessing\u001b[39;00m\u001b[38;5;250m \u001b[39m\u001b[38;5;28;01mimport\u001b[39;00m StandardScaler\n\u001b[32m      4\u001b[39m \u001b[38;5;28;01mfrom\u001b[39;00m\u001b[38;5;250m \u001b[39m\u001b[34;01msklearn\u001b[39;00m\u001b[34;01m.\u001b[39;00m\u001b[34;01mdecomposition\u001b[39;00m\u001b[38;5;250m \u001b[39m\u001b[38;5;28;01mimport\u001b[39;00m PCA\n",
      "\u001b[36mFile \u001b[39m\u001b[32m~/Documents/Elucidata/[5]_SRAlab/.venv/lib/python3.11/site-packages/sklearn/__init__.py:73\u001b[39m\n\u001b[32m     62\u001b[39m \u001b[38;5;66;03m# `_distributor_init` allows distributors to run custom init code.\u001b[39;00m\n\u001b[32m     63\u001b[39m \u001b[38;5;66;03m# For instance, for the Windows wheel, this is used to pre-load the\u001b[39;00m\n\u001b[32m     64\u001b[39m \u001b[38;5;66;03m# vcomp shared library runtime for OpenMP embedded in the sklearn/.libs\u001b[39;00m\n\u001b[32m   (...)\u001b[39m\u001b[32m     67\u001b[39m \u001b[38;5;66;03m# later is linked to the OpenMP runtime to make it possible to introspect\u001b[39;00m\n\u001b[32m     68\u001b[39m \u001b[38;5;66;03m# it and importing it first would fail if the OpenMP dll cannot be found.\u001b[39;00m\n\u001b[32m     69\u001b[39m \u001b[38;5;28;01mfrom\u001b[39;00m\u001b[38;5;250m \u001b[39m\u001b[34;01m.\u001b[39;00m\u001b[38;5;250m \u001b[39m\u001b[38;5;28;01mimport\u001b[39;00m (  \u001b[38;5;66;03m# noqa: F401 E402\u001b[39;00m\n\u001b[32m     70\u001b[39m     __check_build,\n\u001b[32m     71\u001b[39m     _distributor_init,\n\u001b[32m     72\u001b[39m )\n\u001b[32m---> \u001b[39m\u001b[32m73\u001b[39m \u001b[38;5;28;01mfrom\u001b[39;00m\u001b[38;5;250m \u001b[39m\u001b[34;01m.\u001b[39;00m\u001b[34;01mbase\u001b[39;00m\u001b[38;5;250m \u001b[39m\u001b[38;5;28;01mimport\u001b[39;00m clone  \u001b[38;5;66;03m# noqa: E402\u001b[39;00m\n\u001b[32m     74\u001b[39m \u001b[38;5;28;01mfrom\u001b[39;00m\u001b[38;5;250m \u001b[39m\u001b[34;01m.\u001b[39;00m\u001b[34;01mutils\u001b[39;00m\u001b[34;01m.\u001b[39;00m\u001b[34;01m_show_versions\u001b[39;00m\u001b[38;5;250m \u001b[39m\u001b[38;5;28;01mimport\u001b[39;00m show_versions  \u001b[38;5;66;03m# noqa: E402\u001b[39;00m\n\u001b[32m     76\u001b[39m _submodules = [\n\u001b[32m     77\u001b[39m     \u001b[33m\"\u001b[39m\u001b[33mcalibration\u001b[39m\u001b[33m\"\u001b[39m,\n\u001b[32m     78\u001b[39m     \u001b[33m\"\u001b[39m\u001b[33mcluster\u001b[39m\u001b[33m\"\u001b[39m,\n\u001b[32m   (...)\u001b[39m\u001b[32m    114\u001b[39m     \u001b[33m\"\u001b[39m\u001b[33mcompose\u001b[39m\u001b[33m\"\u001b[39m,\n\u001b[32m    115\u001b[39m ]\n",
      "\u001b[36mFile \u001b[39m\u001b[32m~/Documents/Elucidata/[5]_SRAlab/.venv/lib/python3.11/site-packages/sklearn/base.py:19\u001b[39m\n\u001b[32m     17\u001b[39m \u001b[38;5;28;01mfrom\u001b[39;00m\u001b[38;5;250m \u001b[39m\u001b[34;01m.\u001b[39;00m\u001b[34;01m_config\u001b[39;00m\u001b[38;5;250m \u001b[39m\u001b[38;5;28;01mimport\u001b[39;00m config_context, get_config\n\u001b[32m     18\u001b[39m \u001b[38;5;28;01mfrom\u001b[39;00m\u001b[38;5;250m \u001b[39m\u001b[34;01m.\u001b[39;00m\u001b[34;01mexceptions\u001b[39;00m\u001b[38;5;250m \u001b[39m\u001b[38;5;28;01mimport\u001b[39;00m InconsistentVersionWarning\n\u001b[32m---> \u001b[39m\u001b[32m19\u001b[39m \u001b[38;5;28;01mfrom\u001b[39;00m\u001b[38;5;250m \u001b[39m\u001b[34;01m.\u001b[39;00m\u001b[34;01mutils\u001b[39;00m\u001b[34;01m.\u001b[39;00m\u001b[34;01m_estimator_html_repr\u001b[39;00m\u001b[38;5;250m \u001b[39m\u001b[38;5;28;01mimport\u001b[39;00m _HTMLDocumentationLinkMixin, estimator_html_repr\n\u001b[32m     20\u001b[39m \u001b[38;5;28;01mfrom\u001b[39;00m\u001b[38;5;250m \u001b[39m\u001b[34;01m.\u001b[39;00m\u001b[34;01mutils\u001b[39;00m\u001b[34;01m.\u001b[39;00m\u001b[34;01m_metadata_requests\u001b[39;00m\u001b[38;5;250m \u001b[39m\u001b[38;5;28;01mimport\u001b[39;00m _MetadataRequester, _routing_enabled\n\u001b[32m     21\u001b[39m \u001b[38;5;28;01mfrom\u001b[39;00m\u001b[38;5;250m \u001b[39m\u001b[34;01m.\u001b[39;00m\u001b[34;01mutils\u001b[39;00m\u001b[34;01m.\u001b[39;00m\u001b[34;01m_param_validation\u001b[39;00m\u001b[38;5;250m \u001b[39m\u001b[38;5;28;01mimport\u001b[39;00m validate_parameter_constraints\n",
      "\u001b[36mFile \u001b[39m\u001b[32m~/Documents/Elucidata/[5]_SRAlab/.venv/lib/python3.11/site-packages/sklearn/utils/__init__.py:15\u001b[39m\n\u001b[32m     13\u001b[39m \u001b[38;5;28;01mfrom\u001b[39;00m\u001b[38;5;250m \u001b[39m\u001b[34;01m.\u001b[39;00m\u001b[38;5;250m \u001b[39m\u001b[38;5;28;01mimport\u001b[39;00m _joblib, metadata_routing\n\u001b[32m     14\u001b[39m \u001b[38;5;28;01mfrom\u001b[39;00m\u001b[38;5;250m \u001b[39m\u001b[34;01m.\u001b[39;00m\u001b[34;01m_bunch\u001b[39;00m\u001b[38;5;250m \u001b[39m\u001b[38;5;28;01mimport\u001b[39;00m Bunch\n\u001b[32m---> \u001b[39m\u001b[32m15\u001b[39m \u001b[38;5;28;01mfrom\u001b[39;00m\u001b[38;5;250m \u001b[39m\u001b[34;01m.\u001b[39;00m\u001b[34;01m_chunking\u001b[39;00m\u001b[38;5;250m \u001b[39m\u001b[38;5;28;01mimport\u001b[39;00m gen_batches, gen_even_slices\n\u001b[32m     16\u001b[39m \u001b[38;5;28;01mfrom\u001b[39;00m\u001b[38;5;250m \u001b[39m\u001b[34;01m.\u001b[39;00m\u001b[34;01m_estimator_html_repr\u001b[39;00m\u001b[38;5;250m \u001b[39m\u001b[38;5;28;01mimport\u001b[39;00m estimator_html_repr\n\u001b[32m     18\u001b[39m \u001b[38;5;66;03m# Make _safe_indexing importable from here for backward compat as this particular\u001b[39;00m\n\u001b[32m     19\u001b[39m \u001b[38;5;66;03m# helper is considered semi-private and typically very useful for third-party\u001b[39;00m\n\u001b[32m     20\u001b[39m \u001b[38;5;66;03m# libraries that want to comply with scikit-learn's estimator API. In particular,\u001b[39;00m\n\u001b[32m     21\u001b[39m \u001b[38;5;66;03m# _safe_indexing was included in our public API documentation despite the leading\u001b[39;00m\n\u001b[32m     22\u001b[39m \u001b[38;5;66;03m# `_` in its name.\u001b[39;00m\n",
      "\u001b[36mFile \u001b[39m\u001b[32m~/Documents/Elucidata/[5]_SRAlab/.venv/lib/python3.11/site-packages/sklearn/utils/_chunking.py:11\u001b[39m\n\u001b[32m      8\u001b[39m \u001b[38;5;28;01mimport\u001b[39;00m\u001b[38;5;250m \u001b[39m\u001b[34;01mnumpy\u001b[39;00m\u001b[38;5;250m \u001b[39m\u001b[38;5;28;01mas\u001b[39;00m\u001b[38;5;250m \u001b[39m\u001b[34;01mnp\u001b[39;00m\n\u001b[32m     10\u001b[39m \u001b[38;5;28;01mfrom\u001b[39;00m\u001b[38;5;250m \u001b[39m\u001b[34;01m.\u001b[39;00m\u001b[34;01m.\u001b[39;00m\u001b[34;01m_config\u001b[39;00m\u001b[38;5;250m \u001b[39m\u001b[38;5;28;01mimport\u001b[39;00m get_config\n\u001b[32m---> \u001b[39m\u001b[32m11\u001b[39m \u001b[38;5;28;01mfrom\u001b[39;00m\u001b[38;5;250m \u001b[39m\u001b[34;01m.\u001b[39;00m\u001b[34;01m_param_validation\u001b[39;00m\u001b[38;5;250m \u001b[39m\u001b[38;5;28;01mimport\u001b[39;00m Interval, validate_params\n\u001b[32m     14\u001b[39m \u001b[38;5;28;01mdef\u001b[39;00m\u001b[38;5;250m \u001b[39m\u001b[34mchunk_generator\u001b[39m(gen, chunksize):\n\u001b[32m     15\u001b[39m \u001b[38;5;250m    \u001b[39m\u001b[33;03m\"\"\"Chunk generator, ``gen`` into lists of length ``chunksize``. The last\u001b[39;00m\n\u001b[32m     16\u001b[39m \u001b[33;03m    chunk may have a length less than ``chunksize``.\"\"\"\u001b[39;00m\n",
      "\u001b[36mFile \u001b[39m\u001b[32m~/Documents/Elucidata/[5]_SRAlab/.venv/lib/python3.11/site-packages/sklearn/utils/_param_validation.py:17\u001b[39m\n\u001b[32m     14\u001b[39m \u001b[38;5;28;01mfrom\u001b[39;00m\u001b[38;5;250m \u001b[39m\u001b[34;01mscipy\u001b[39;00m\u001b[34;01m.\u001b[39;00m\u001b[34;01msparse\u001b[39;00m\u001b[38;5;250m \u001b[39m\u001b[38;5;28;01mimport\u001b[39;00m csr_matrix, issparse\n\u001b[32m     16\u001b[39m \u001b[38;5;28;01mfrom\u001b[39;00m\u001b[38;5;250m \u001b[39m\u001b[34;01m.\u001b[39;00m\u001b[34;01m.\u001b[39;00m\u001b[34;01m_config\u001b[39;00m\u001b[38;5;250m \u001b[39m\u001b[38;5;28;01mimport\u001b[39;00m config_context, get_config\n\u001b[32m---> \u001b[39m\u001b[32m17\u001b[39m \u001b[38;5;28;01mfrom\u001b[39;00m\u001b[38;5;250m \u001b[39m\u001b[34;01m.\u001b[39;00m\u001b[34;01mvalidation\u001b[39;00m\u001b[38;5;250m \u001b[39m\u001b[38;5;28;01mimport\u001b[39;00m _is_arraylike_not_scalar\n\u001b[32m     20\u001b[39m \u001b[38;5;28;01mclass\u001b[39;00m\u001b[38;5;250m \u001b[39m\u001b[34;01mInvalidParameterError\u001b[39;00m(\u001b[38;5;167;01mValueError\u001b[39;00m, \u001b[38;5;167;01mTypeError\u001b[39;00m):\n\u001b[32m     21\u001b[39m \u001b[38;5;250m    \u001b[39m\u001b[33;03m\"\"\"Custom exception to be raised when the parameter of a class/method/function\u001b[39;00m\n\u001b[32m     22\u001b[39m \u001b[33;03m    does not have a valid type or value.\u001b[39;00m\n\u001b[32m     23\u001b[39m \u001b[33;03m    \"\"\"\u001b[39;00m\n",
      "\u001b[36mFile \u001b[39m\u001b[32m~/Documents/Elucidata/[5]_SRAlab/.venv/lib/python3.11/site-packages/sklearn/utils/validation.py:21\u001b[39m\n\u001b[32m     19\u001b[39m \u001b[38;5;28;01mfrom\u001b[39;00m\u001b[38;5;250m \u001b[39m\u001b[34;01m.\u001b[39;00m\u001b[34;01m.\u001b[39;00m\u001b[38;5;250m \u001b[39m\u001b[38;5;28;01mimport\u001b[39;00m get_config \u001b[38;5;28;01mas\u001b[39;00m _get_config\n\u001b[32m     20\u001b[39m \u001b[38;5;28;01mfrom\u001b[39;00m\u001b[38;5;250m \u001b[39m\u001b[34;01m.\u001b[39;00m\u001b[34;01m.\u001b[39;00m\u001b[34;01mexceptions\u001b[39;00m\u001b[38;5;250m \u001b[39m\u001b[38;5;28;01mimport\u001b[39;00m DataConversionWarning, NotFittedError, PositiveSpectrumWarning\n\u001b[32m---> \u001b[39m\u001b[32m21\u001b[39m \u001b[38;5;28;01mfrom\u001b[39;00m\u001b[38;5;250m \u001b[39m\u001b[34;01m.\u001b[39;00m\u001b[34;01m.\u001b[39;00m\u001b[34;01mutils\u001b[39;00m\u001b[34;01m.\u001b[39;00m\u001b[34;01m_array_api\u001b[39;00m\u001b[38;5;250m \u001b[39m\u001b[38;5;28;01mimport\u001b[39;00m _asarray_with_order, _is_numpy_namespace, get_namespace\n\u001b[32m     22\u001b[39m \u001b[38;5;28;01mfrom\u001b[39;00m\u001b[38;5;250m \u001b[39m\u001b[34;01m.\u001b[39;00m\u001b[34;01m.\u001b[39;00m\u001b[34;01mutils\u001b[39;00m\u001b[34;01m.\u001b[39;00m\u001b[34;01mdeprecation\u001b[39;00m\u001b[38;5;250m \u001b[39m\u001b[38;5;28;01mimport\u001b[39;00m _deprecate_force_all_finite\n\u001b[32m     23\u001b[39m \u001b[38;5;28;01mfrom\u001b[39;00m\u001b[38;5;250m \u001b[39m\u001b[34;01m.\u001b[39;00m\u001b[34;01m.\u001b[39;00m\u001b[34;01mutils\u001b[39;00m\u001b[34;01m.\u001b[39;00m\u001b[34;01mfixes\u001b[39;00m\u001b[38;5;250m \u001b[39m\u001b[38;5;28;01mimport\u001b[39;00m ComplexWarning, _preserve_dia_indices_dtype\n",
      "\u001b[36mFile \u001b[39m\u001b[32m~/Documents/Elucidata/[5]_SRAlab/.venv/lib/python3.11/site-packages/sklearn/utils/_array_api.py:14\u001b[39m\n\u001b[32m     12\u001b[39m \u001b[38;5;28;01mimport\u001b[39;00m\u001b[38;5;250m \u001b[39m\u001b[34;01mscipy\u001b[39;00m\n\u001b[32m     13\u001b[39m \u001b[38;5;28;01mimport\u001b[39;00m\u001b[38;5;250m \u001b[39m\u001b[34;01mscipy\u001b[39;00m\u001b[34;01m.\u001b[39;00m\u001b[34;01msparse\u001b[39;00m\u001b[38;5;250m \u001b[39m\u001b[38;5;28;01mas\u001b[39;00m\u001b[38;5;250m \u001b[39m\u001b[34;01msp\u001b[39;00m\n\u001b[32m---> \u001b[39m\u001b[32m14\u001b[39m \u001b[38;5;28;01mimport\u001b[39;00m\u001b[38;5;250m \u001b[39m\u001b[34;01mscipy\u001b[39;00m\u001b[34;01m.\u001b[39;00m\u001b[34;01mspecial\u001b[39;00m\u001b[38;5;250m \u001b[39m\u001b[38;5;28;01mas\u001b[39;00m\u001b[38;5;250m \u001b[39m\u001b[34;01mspecial\u001b[39;00m\n\u001b[32m     16\u001b[39m \u001b[38;5;28;01mfrom\u001b[39;00m\u001b[38;5;250m \u001b[39m\u001b[34;01m.\u001b[39;00m\u001b[34;01m.\u001b[39;00m\u001b[34;01m_config\u001b[39;00m\u001b[38;5;250m \u001b[39m\u001b[38;5;28;01mimport\u001b[39;00m get_config\n\u001b[32m     17\u001b[39m \u001b[38;5;28;01mfrom\u001b[39;00m\u001b[38;5;250m \u001b[39m\u001b[34;01m.\u001b[39;00m\u001b[34;01mfixes\u001b[39;00m\u001b[38;5;250m \u001b[39m\u001b[38;5;28;01mimport\u001b[39;00m parse_version\n",
      "\u001b[36mFile \u001b[39m\u001b[32m~/Documents/Elucidata/[5]_SRAlab/.venv/lib/python3.11/site-packages/scipy/special/__init__.py:826\u001b[39m\n\u001b[32m    820\u001b[39m \u001b[38;5;66;03m# Replace some function definitions from _ufuncs to add Array API support\u001b[39;00m\n\u001b[32m    821\u001b[39m \u001b[38;5;28;01mfrom\u001b[39;00m\u001b[38;5;250m \u001b[39m\u001b[34;01m.\u001b[39;00m\u001b[34;01m_support_alternative_backends\u001b[39;00m\u001b[38;5;250m \u001b[39m\u001b[38;5;28;01mimport\u001b[39;00m (\n\u001b[32m    822\u001b[39m     log_ndtr, ndtr, ndtri, erf, erfc, i0, i0e, i1, i1e, gammaln,\n\u001b[32m    823\u001b[39m     gammainc, gammaincc, logit, expit, entr, rel_entr, xlogy,\n\u001b[32m    824\u001b[39m     chdtr, chdtrc, betainc, betaincc, stdtr)\n\u001b[32m--> \u001b[39m\u001b[32m826\u001b[39m \u001b[38;5;28;01mfrom\u001b[39;00m\u001b[38;5;250m \u001b[39m\u001b[34;01m.\u001b[39;00m\u001b[38;5;250m \u001b[39m\u001b[38;5;28;01mimport\u001b[39;00m _basic\n\u001b[32m    827\u001b[39m \u001b[38;5;28;01mfrom\u001b[39;00m\u001b[38;5;250m \u001b[39m\u001b[34;01m.\u001b[39;00m\u001b[34;01m_basic\u001b[39;00m\u001b[38;5;250m \u001b[39m\u001b[38;5;28;01mimport\u001b[39;00m *\n\u001b[32m    829\u001b[39m \u001b[38;5;28;01mfrom\u001b[39;00m\u001b[38;5;250m \u001b[39m\u001b[34;01m.\u001b[39;00m\u001b[34;01m_logsumexp\u001b[39;00m\u001b[38;5;250m \u001b[39m\u001b[38;5;28;01mimport\u001b[39;00m logsumexp, softmax, log_softmax\n",
      "\u001b[36mFile \u001b[39m\u001b[32m~/Documents/Elucidata/[5]_SRAlab/.venv/lib/python3.11/site-packages/scipy/special/_basic.py:18\u001b[39m\n\u001b[32m     13\u001b[39m \u001b[38;5;28;01mfrom\u001b[39;00m\u001b[38;5;250m \u001b[39m\u001b[34;01m.\u001b[39;00m\u001b[38;5;250m \u001b[39m\u001b[38;5;28;01mimport\u001b[39;00m _ufuncs\n\u001b[32m     14\u001b[39m \u001b[38;5;28;01mfrom\u001b[39;00m\u001b[38;5;250m \u001b[39m\u001b[34;01m.\u001b[39;00m\u001b[34;01m_ufuncs\u001b[39;00m\u001b[38;5;250m \u001b[39m\u001b[38;5;28;01mimport\u001b[39;00m (mathieu_a, mathieu_b, iv, jv, gamma, rgamma,\n\u001b[32m     15\u001b[39m                       psi, hankel1, hankel2, yv, kv, poch, binom,\n\u001b[32m     16\u001b[39m                       _stirling2_inexact)\n\u001b[32m---> \u001b[39m\u001b[32m18\u001b[39m \u001b[38;5;28;01mfrom\u001b[39;00m\u001b[38;5;250m \u001b[39m\u001b[34;01m.\u001b[39;00m\u001b[34;01m_gufuncs\u001b[39;00m\u001b[38;5;250m \u001b[39m\u001b[38;5;28;01mimport\u001b[39;00m _lqn, _lqmn, _rctj, _rcty\n\u001b[32m     19\u001b[39m \u001b[38;5;28;01mfrom\u001b[39;00m\u001b[38;5;250m \u001b[39m\u001b[34;01m.\u001b[39;00m\u001b[34;01m_input_validation\u001b[39;00m\u001b[38;5;250m \u001b[39m\u001b[38;5;28;01mimport\u001b[39;00m _nonneg_int_or_fail\n\u001b[32m     20\u001b[39m \u001b[38;5;28;01mfrom\u001b[39;00m\u001b[38;5;250m \u001b[39m\u001b[34;01m.\u001b[39;00m\u001b[38;5;250m \u001b[39m\u001b[38;5;28;01mimport\u001b[39;00m _specfun\n",
      "\u001b[31mKeyboardInterrupt\u001b[39m: "
     ]
    }
   ],
   "source": [
    "import pandas as pd\n",
    "from sklearn.impute import SimpleImputer\n",
    "from sklearn.preprocessing import StandardScaler\n",
    "from sklearn.decomposition import PCA\n",
    "import plotly.express as px\n",
    "\n",
    "def perform_pca_and_plot(df, title, metadata_df, missingness_threshold=0.9):\n",
    "    # Match samples between df and metadata\n",
    "    df = df.loc[df.index.intersection(metadata_df.index)]\n",
    "    labels = metadata_df.loc[df.index, 'Label']\n",
    "\n",
    "    # Step 1: Remove features with ≥ missingness_threshold missing values\n",
    "    missing_pct = df.isnull().mean()\n",
    "    df = df.loc[:, missing_pct < missingness_threshold]\n",
    "\n",
    "    # Step 2: Impute missing values\n",
    "    imputer = SimpleImputer(strategy='mean')\n",
    "    df_pca_imputed = imputer.fit_transform(df)\n",
    "\n",
    "    # Step 3: Scale the data\n",
    "    scaler = StandardScaler()\n",
    "    df_pca_scaled = scaler.fit_transform(df_pca_imputed)\n",
    "\n",
    "    # Step 4: Perform PCA\n",
    "    pca = PCA(n_components=2)\n",
    "    pca_result = pca.fit_transform(df_pca_scaled)\n",
    "    explained_variance = pca.explained_variance_ratio_ * 100\n",
    "\n",
    "    # Step 5: Prepare dataframe for plotting\n",
    "    pca_df = pd.DataFrame(data=pca_result, columns=['PC1', 'PC2'], index=df.index)\n",
    "    pca_df['Label'] = labels.values\n",
    "\n",
    "    # Step 6: Plot\n",
    "    fig = px.scatter(\n",
    "        pca_df, x='PC1', y='PC2', color='Label', title=f'PCA of {title}',\n",
    "        labels={'color': 'Sample Label'}, hover_name=pca_df.index\n",
    "    )\n",
    "    fig.update_traces(marker=dict(size=10, line=dict(width=2, color='DarkSlateGrey')))\n",
    "    fig.update_layout(\n",
    "        autosize=False, width=400, height=300,\n",
    "        xaxis_title=f'PC 1 ({explained_variance[0]:.2f}% Variance)',\n",
    "        yaxis_title=f'PC 2 ({explained_variance[1]:.2f}% Variance)',\n",
    "        title=f'PCA Analysis of {title}'\n",
    "    )\n",
    "    fig.show()\n",
    "\n",
    "\n",
    "# Perform PCA on each dataset\n",
    "perform_pca_and_plot(mrna_df_t, 'RNA Data', metadata_df)\n",
    "perform_pca_and_plot(proteo_df_t, 'Protein Data', metadata_df)\n",
    "perform_pca_and_plot(phospho_df_t, 'Phospho Data', metadata_df)\n"
   ]
  }
 ],
 "metadata": {
  "editor": "DataLab",
  "kernelspec": {
   "display_name": ".venv",
   "language": "python",
   "name": "python3"
  },
  "language_info": {
   "codemirror_mode": {
    "name": "ipython",
    "version": 3
   },
   "file_extension": ".py",
   "mimetype": "text/x-python",
   "name": "python",
   "nbconvert_exporter": "python",
   "pygments_lexer": "ipython3",
   "version": "3.11.3"
  }
 },
 "nbformat": 4,
 "nbformat_minor": 5
}
