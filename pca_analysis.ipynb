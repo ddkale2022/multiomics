{
 "cells": [
  {
   "cell_type": "code",
   "execution_count": 1,
   "id": "997f4b24-ce41-48b2-ad9e-62c381c549ee",
   "metadata": {
    "executionCancelledAt": null,
    "executionTime": 3987,
    "lastExecutedAt": 1745570502244,
    "lastExecutedByKernel": "74d11f65-fc13-4e50-887b-b0ca75574ee2",
    "lastScheduledRunId": null,
    "lastSuccessfullyExecutedCode": "import pandas as pd\n\n# Step 1: Load RNA, protein, and phospho dataframes\nmrna_df = pd.read_csv(\"data_input/mrna.csv\", index_col=0)\nproteo_df = pd.read_csv(\"data_input/proteo.csv\", index_col=0)\nphospho_df = pd.read_csv(\"data_input/phospho.csv\", index_col=0)\nmetadata_df = pd.read_csv(\"data_input/metadata.csv\", index_col=0)\n\n# Strip whitespace from column names\nmrna_df.columns = mrna_df.columns.str.strip()\nproteo_df.columns = proteo_df.columns.str.strip()\nphospho_df.columns = phospho_df.columns.str.strip()\n\n# Step 2: Clean column names for proteomics and phosphoproteomics data\n\n# For proteomics data (remove \"iBAQ \" prefix)\nproteo_df.columns = [col.replace(\"iBAQ \", \"\") for col in proteo_df.columns]\n\n# For phosphoproteomics data (remove \"Intensity \" prefix and \"_phos\" suffix)\nphospho_df.columns = [col.replace(\"Intensity \", \"\").replace(\"_phos\", \"\") for col in phospho_df.columns]\n\n# Step 3: Get sample name lists\nmrna_list = list(mrna_df.columns)\nproteo_list = list(proteo_df.columns)\nphospho_list = list(phospho_df.columns)\n\ncommon_values = set(mrna_list) & set(proteo_list) & set(phospho_list)\nstrings_to_filter = list(common_values)\n\n#strings_to_filter\n\n# Step 5: Filter the dataframes to keep only common samples\nmrna_df_filtered = mrna_df.loc[:, mrna_df.columns.isin(strings_to_filter)]\nproteo_df_filtered = proteo_df.loc[:, proteo_df.columns.isin(strings_to_filter)]\nphospho_df_filtered = phospho_df.loc[:, phospho_df.columns.isin(strings_to_filter)]\n\n# Save filtered dataframes as CSV\nmrna_df_filtered.to_csv(\"data_output/mrna_filtered.csv\")\nphospho_df_filtered.to_csv(\"data_output/phospho_filtered.csv\")\nproteo_df_filtered.to_csv(\"data_output/proteo_filtered.csv\")\n\n#proteo_df_filtered\n#mrna_df_filtered",
    "outputsMetadata": {
     "0": {
      "height": 550,
      "tableState": {
       "customFilter": {
        "const": {
         "type": "boolean",
         "valid": true,
         "value": true
        },
        "id": "f4c3ce51-5b97-433f-84e7-d7dffecf2da6",
        "nodeType": "const"
       }
      },
      "type": "dataFrame"
     }
    }
   },
   "outputs": [],
   "source": [
    "import pandas as pd\n",
    "\n",
    "# Step 1: Load RNA, protein, and phospho dataframes\n",
    "mrna_df = pd.read_csv(\"data_input/mrna.csv\", index_col=0)\n",
    "proteo_df = pd.read_csv(\"data_input/proteo.csv\", index_col=0)\n",
    "phospho_df = pd.read_csv(\"data_input/phospho.csv\", index_col=0)\n",
    "metadata_df = pd.read_csv(\"data_input/metadata.csv\", index_col=0)\n",
    "\n",
    "# Strip whitespace from column names\n",
    "mrna_df.columns = mrna_df.columns.str.strip()\n",
    "proteo_df.columns = proteo_df.columns.str.strip()\n",
    "phospho_df.columns = phospho_df.columns.str.strip()\n",
    "\n",
    "# Step 2: Clean column names for proteomics and phosphoproteomics data\n",
    "\n",
    "# For proteomics data (remove \"iBAQ \" prefix)\n",
    "proteo_df.columns = [col.replace(\"iBAQ \", \"\") for col in proteo_df.columns]\n",
    "\n",
    "# For phosphoproteomics data (remove \"Intensity \" prefix and \"_phos\" suffix)\n",
    "phospho_df.columns = [col.replace(\"Intensity \", \"\").replace(\"_phos\", \"\") for col in phospho_df.columns]\n",
    "\n",
    "# Step 3: Get sample name lists\n",
    "mrna_list = list(mrna_df.columns)\n",
    "proteo_list = list(proteo_df.columns)\n",
    "phospho_list = list(phospho_df.columns)\n",
    "\n",
    "common_values = set(mrna_list) & set(proteo_list) & set(phospho_list)\n",
    "strings_to_filter = list(common_values)\n",
    "\n",
    "#strings_to_filter\n",
    "\n",
    "# Step 5: Filter the dataframes to keep only common samples\n",
    "mrna_df_filtered = mrna_df.loc[:, mrna_df.columns.isin(strings_to_filter)]\n",
    "proteo_df_filtered = proteo_df.loc[:, proteo_df.columns.isin(strings_to_filter)]\n",
    "phospho_df_filtered = phospho_df.loc[:, phospho_df.columns.isin(strings_to_filter)]\n",
    "\n",
    "# Save filtered dataframes as CSV\n",
    "mrna_df_filtered.to_csv(\"data_output/mrna_filtered.csv\")\n",
    "phospho_df_filtered.to_csv(\"data_output/phospho_filtered.csv\")\n",
    "proteo_df_filtered.to_csv(\"data_output/proteo_filtered.csv\")\n",
    "\n",
    "#proteo_df_filtered\n",
    "#mrna_df_filtered"
   ]
  },
  {
   "cell_type": "code",
   "execution_count": 2,
   "id": "cf98c563-eaea-485c-a848-e8091154089d",
   "metadata": {
    "collapsed": true,
    "executionCancelledAt": null,
    "executionTime": 2301,
    "jupyter": {
     "outputs_hidden": true,
     "source_hidden": false
    },
    "lastExecutedAt": 1745570506988,
    "lastExecutedByKernel": "74d11f65-fc13-4e50-887b-b0ca75574ee2",
    "lastScheduledRunId": null,
    "lastSuccessfullyExecutedCode": "# Transpose and clean function\ndef format_expression_matrix(df):\n    df_t = df.T  # Transpose directly\n    df_t.index.name = 'Sample_ID'\n    df_t.columns.name = 'Features'\n    return df_t\n\n\nmrna_df_t = format_expression_matrix(mrna_df_filtered)\nproteo_df_t = format_expression_matrix(proteo_df_filtered)\nphospho_df_t = format_expression_matrix(phospho_df_filtered)\n\n\nmrna_df_t",
    "outputsMetadata": {
     "0": {
      "height": 550,
      "tableState": {
       "customFilter": {
        "const": {
         "type": "boolean",
         "valid": true,
         "value": true
        },
        "id": "f4c3ce51-5b97-433f-84e7-d7dffecf2da6",
        "nodeType": "const"
       }
      },
      "type": "dataFrame"
     }
    }
   },
   "outputs": [],
   "source": [
    "# Transpose and clean function\n",
    "def format_expression_matrix(df):\n",
    "    df_t = df.T  # Transpose directly\n",
    "    df_t.index.name = 'Sample_ID'\n",
    "    df_t.columns.name = 'Features'\n",
    "    return df_t\n",
    "\n",
    "\n",
    "mrna_df_t = format_expression_matrix(mrna_df_filtered)\n",
    "proteo_df_t = format_expression_matrix(proteo_df_filtered)\n",
    "phospho_df_t = format_expression_matrix(phospho_df_filtered)"
   ]
  },
  {
   "cell_type": "code",
   "execution_count": 3,
   "id": "e0b4c217-6a6a-48ac-bf10-4df4c064c39d",
   "metadata": {
    "executionCancelledAt": null,
    "executionTime": null,
    "lastExecutedAt": null,
    "lastExecutedByKernel": null,
    "lastScheduledRunId": null,
    "lastSuccessfullyExecutedCode": null,
    "outputsMetadata": {
     "0": {
      "height": 17,
      "type": "plotly"
     },
     "1": {
      "height": 17,
      "type": "plotly"
     },
     "2": {
      "height": 17,
      "type": "plotly"
     }
    }
   },
   "outputs": [
    {
     "name": "stderr",
     "output_type": "stream",
     "text": [
      "/Users/dipalikale/Documents/Elucidata/personal_git/multiomics/.venv/lib/python3.11/site-packages/sklearn/impute/_base.py:635: UserWarning: Skipping features without any observed values: ['AC095030.1' 'AC113347.1' 'AC122138.1' 'AL023574.1' 'AL356432.2'\n",
      " 'ATP2B2-IT1' 'LINC00392' 'LINC00613' 'LINC02113' 'LINC02117' 'MTCYBP36'\n",
      " 'OR4F14P' 'OR6M2P' 'RARRES2P3' 'RPL17P41' 'TUBB8P4']. At least one non-missing value is needed for imputation with strategy='mean'.\n",
      "  warnings.warn(\n"
     ]
    },
    {
     "data": {
      "application/vnd.plotly.v1+json": {
       "config": {
        "plotlyServerURL": "https://plot.ly"
       },
       "data": [
        {
         "hovertemplate": "<b>%{hovertext}</b><br><br>Label=Tumor<br>PC1=%{x}<br>PC2=%{y}<extra></extra>",
         "hovertext": [
          "LUAD_17T",
          "LUAD_18T",
          "LUAD_19T",
          "LUAD_20T",
          "LUAD_22T",
          "LUAD_23T",
          "LUAD_24T",
          "LUAD_25T",
          "LUAD_26T",
          "LUAD_27T",
          "LUAD_28T",
          "LUAD_29T",
          "LUAD_30T",
          "LUAD_33T",
          "LUAD_34T",
          "LUAD_35T",
          "LUAD_37T",
          "LUAD_38T",
          "LUAD_39T",
          "LUAD_40T",
          "LUAD_41T",
          "LUAD_42T",
          "LUAD_43T",
          "LUAD_44T",
          "LUAD_45T",
          "LUAD_46T",
          "LUAD_47T",
          "LUAD_48T",
          "LUAD_49T",
          "LUAD_50T",
          "LUAD_51T",
          "LUAD_52T",
          "LUAD_53T",
          "LUAD_54T",
          "LUAD_55T",
          "LUAD_56T",
          "LUAD_57T",
          "LUAD_58T",
          "LUAD_60T",
          "LUAD_61T",
          "LUAD_90T",
          "LUAD_91T"
         ],
         "legendgroup": "Tumor",
         "marker": {
          "color": "#636efa",
          "line": {
           "color": "DarkSlateGrey",
           "width": 2
          },
          "size": 10,
          "symbol": "circle"
         },
         "mode": "markers",
         "name": "Tumor",
         "orientation": "v",
         "showlegend": true,
         "type": "scatter",
         "x": {
          "bdata": "2d2bPszjNcDsDD4Ey25SwGk5ZevX8DvADq4V1iooT8BSBG7IL+lTwE2gBbffj0zAinXoBqi9NUBxKPWD84tCwDeI6wF4BUjAp7xWjTh8EcCHN1R3GzVNwA5k5dV14CHAQchopYIBTsANvvUrfEZLwJSJcatte0PAmxoESKPnRcA/Dz3i9hpSwKZoeqHfK0jAtomkS7VtOsDRtx75+HkywHqlimOW1kbAQhLlISgDT8DjQsl9hWBGwFqyyHMebkrADcexn7EZP8ALB2vb1Q9UwCbWCsmGYkvAEvQf4TYpQsBSnAvWuJdQwLuK5O0beEfATbwU/FYxRcB3oWSowrRBwCvfFh28tkDAvTo4v+O2T8AAuc1tqYRRwHVhsHw1jkLAFN/CZJ8YOcBQYVlPOSFRwHlt0hyuZUnAcWkSO/VWRMBAj0DEFj1BwFRkW0U4Y0/A",
          "dtype": "f8"
         },
         "xaxis": "x",
         "y": {
          "bdata": "bkb/PII8VMAFn8B6PooMwDbe1VOqfEzAFX3sNMIP+r+AJPH1PNw6wGrmeX/uw0FA0QrR9tyaMsDLeCygMbojQGju1gJGMk3Akv25iUCeRMAsOQutu1AzwJOf6qeIXfs/w0d521/ICkBGVXtsuhEnQNbA/qSZhSdAocalGy2HIsDzYzuKW30oQJvaWiE9nhJABaqn3RUYOMA69lRxpiNAwAFz/a7wp0RAzH8MsAp3QsDV22EfWyExQOpmLDybIQ1AavlX35xKHsC5R/t/B5lBQNL7DfXp8BDAAQ3yvvJZO8BqYMilu9ZGwI1Q+Mf95lXASltCtfFNNsAahGgKBC4JQLo4XphkyQ7Az5WZB/4LMMBddanW+5kfQJovzsqzMTNAAIFMb4fmJUCH/2VMx247wH/QTQPKW0PA41s/g+B6FsDZgToAg3ZGQHI4yh2yLB5A",
          "dtype": "f8"
         },
         "yaxis": "y"
        },
        {
         "hovertemplate": "<b>%{hovertext}</b><br><br>Label=NAT<br>PC1=%{x}<br>PC2=%{y}<extra></extra>",
         "hovertext": [
          "LUAD_17N",
          "LUAD_18N",
          "LUAD_19N",
          "LUAD_20N",
          "LUAD_22N",
          "LUAD_23N",
          "LUAD_24N",
          "LUAD_25N",
          "LUAD_26N",
          "LUAD_27N",
          "LUAD_28N",
          "LUAD_29N",
          "LUAD_30N",
          "LUAD_33N",
          "LUAD_34N",
          "LUAD_35N",
          "LUAD_37N",
          "LUAD_38N",
          "LUAD_39N",
          "LUAD_40N",
          "LUAD_41N",
          "LUAD_42N",
          "LUAD_44N",
          "LUAD_45N",
          "LUAD_46N",
          "LUAD_47N",
          "LUAD_48N",
          "LUAD_49N",
          "LUAD_50N",
          "LUAD_51N",
          "LUAD_52N",
          "LUAD_53N",
          "LUAD_54N",
          "LUAD_55N",
          "LUAD_56N",
          "LUAD_57N",
          "LUAD_60N",
          "LUAD_61N",
          "LUAD_90N",
          "LUAD_91N"
         ],
         "legendgroup": "NAT",
         "marker": {
          "color": "#EF553B",
          "line": {
           "color": "DarkSlateGrey",
           "width": 2
          },
          "size": 10,
          "symbol": "circle"
         },
         "mode": "markers",
         "name": "NAT",
         "orientation": "v",
         "showlegend": true,
         "type": "scatter",
         "x": {
          "bdata": "GGVJYQnOOkDPauw+3LhDQJJ0F1Hq5j5Aups6wO9aRUBxckX3weNEQEx+2IgpHkxAUKGmrDuEPEB2xhDRZfE6QLhi/juPnRNAAceLrek/U0CJ1dFxIs9VQAJIkzpfxj1AJNUunujAMkDOE3BF9wRFQNhNzNG6gUxAs16HhVaGQ0By2qm6Mu43QGjaci/wFENA+cQMqVZlR0DnfKmkEMVSQEGRtEhjKj5AKHD2exm6SUDSTGBnnpc0QKMn95HXR1FAkyfVk4TeS0C/lNc5AINGQO/BTTA/Dk1A8wki2UcYRUBiXIycacZEQOJPFr4iEkBApV2O2jh2SUCGHXarf/5dQKs2+SUgAklAkfzA+ypTREDTTXv3B2FVQKqwEkTKu1JA/i3qXUmtQkABfkGR55NFQCINPPCgvVhASXgQmyBdOUA=",
          "dtype": "f8"
         },
         "xaxis": "x",
         "y": {
          "bdata": "xmGtjCk+QUD/r0frtEtCQKeqrBJSyzRA4EV4YPO3OUCoEDbN9so+QNOvXZRpISFAKbMbo/ePQ0AnzpEpB/JGQEJFIkMKNk1Ap7L5QaY5ScCPdCxPvl48wJOSaX5ngEhA4BtZC2AKQECurgPYhRM5QO1G1miHZu8/89dDYQ2GL0BSYS36TdtHQL+6DcHKckBA9eaWYE06NUBohKbWioZHwOWii9uIxU1A89OSb+DXP0BVDdGtI+NFQJCbGYbvChnAczciG99g7T+FZr1rTWA4QNkhGnYN0ADANGP6RG80y79KSFzbEWstQNs0XTdr7TpAxiL6EWRKH8DUHV9KKwxhwDwTnBNMLCPA9YYT9RuqP0DRiVJm7rpNwFD/WCnKzSTAe2SS/gl53D+ICFO/u+5AQPLdRKKGk1LAvC8KBogQS0A=",
          "dtype": "f8"
         },
         "yaxis": "y"
        }
       ],
       "layout": {
        "autosize": false,
        "height": 300,
        "legend": {
         "title": {
          "text": "Label"
         },
         "tracegroupgap": 0
        },
        "template": {
         "data": {
          "bar": [
           {
            "error_x": {
             "color": "#2a3f5f"
            },
            "error_y": {
             "color": "#2a3f5f"
            },
            "marker": {
             "line": {
              "color": "#E5ECF6",
              "width": 0.5
             },
             "pattern": {
              "fillmode": "overlay",
              "size": 10,
              "solidity": 0.2
             }
            },
            "type": "bar"
           }
          ],
          "barpolar": [
           {
            "marker": {
             "line": {
              "color": "#E5ECF6",
              "width": 0.5
             },
             "pattern": {
              "fillmode": "overlay",
              "size": 10,
              "solidity": 0.2
             }
            },
            "type": "barpolar"
           }
          ],
          "carpet": [
           {
            "aaxis": {
             "endlinecolor": "#2a3f5f",
             "gridcolor": "white",
             "linecolor": "white",
             "minorgridcolor": "white",
             "startlinecolor": "#2a3f5f"
            },
            "baxis": {
             "endlinecolor": "#2a3f5f",
             "gridcolor": "white",
             "linecolor": "white",
             "minorgridcolor": "white",
             "startlinecolor": "#2a3f5f"
            },
            "type": "carpet"
           }
          ],
          "choropleth": [
           {
            "colorbar": {
             "outlinewidth": 0,
             "ticks": ""
            },
            "type": "choropleth"
           }
          ],
          "contour": [
           {
            "colorbar": {
             "outlinewidth": 0,
             "ticks": ""
            },
            "colorscale": [
             [
              0,
              "#0d0887"
             ],
             [
              0.1111111111111111,
              "#46039f"
             ],
             [
              0.2222222222222222,
              "#7201a8"
             ],
             [
              0.3333333333333333,
              "#9c179e"
             ],
             [
              0.4444444444444444,
              "#bd3786"
             ],
             [
              0.5555555555555556,
              "#d8576b"
             ],
             [
              0.6666666666666666,
              "#ed7953"
             ],
             [
              0.7777777777777778,
              "#fb9f3a"
             ],
             [
              0.8888888888888888,
              "#fdca26"
             ],
             [
              1,
              "#f0f921"
             ]
            ],
            "type": "contour"
           }
          ],
          "contourcarpet": [
           {
            "colorbar": {
             "outlinewidth": 0,
             "ticks": ""
            },
            "type": "contourcarpet"
           }
          ],
          "heatmap": [
           {
            "colorbar": {
             "outlinewidth": 0,
             "ticks": ""
            },
            "colorscale": [
             [
              0,
              "#0d0887"
             ],
             [
              0.1111111111111111,
              "#46039f"
             ],
             [
              0.2222222222222222,
              "#7201a8"
             ],
             [
              0.3333333333333333,
              "#9c179e"
             ],
             [
              0.4444444444444444,
              "#bd3786"
             ],
             [
              0.5555555555555556,
              "#d8576b"
             ],
             [
              0.6666666666666666,
              "#ed7953"
             ],
             [
              0.7777777777777778,
              "#fb9f3a"
             ],
             [
              0.8888888888888888,
              "#fdca26"
             ],
             [
              1,
              "#f0f921"
             ]
            ],
            "type": "heatmap"
           }
          ],
          "histogram": [
           {
            "marker": {
             "pattern": {
              "fillmode": "overlay",
              "size": 10,
              "solidity": 0.2
             }
            },
            "type": "histogram"
           }
          ],
          "histogram2d": [
           {
            "colorbar": {
             "outlinewidth": 0,
             "ticks": ""
            },
            "colorscale": [
             [
              0,
              "#0d0887"
             ],
             [
              0.1111111111111111,
              "#46039f"
             ],
             [
              0.2222222222222222,
              "#7201a8"
             ],
             [
              0.3333333333333333,
              "#9c179e"
             ],
             [
              0.4444444444444444,
              "#bd3786"
             ],
             [
              0.5555555555555556,
              "#d8576b"
             ],
             [
              0.6666666666666666,
              "#ed7953"
             ],
             [
              0.7777777777777778,
              "#fb9f3a"
             ],
             [
              0.8888888888888888,
              "#fdca26"
             ],
             [
              1,
              "#f0f921"
             ]
            ],
            "type": "histogram2d"
           }
          ],
          "histogram2dcontour": [
           {
            "colorbar": {
             "outlinewidth": 0,
             "ticks": ""
            },
            "colorscale": [
             [
              0,
              "#0d0887"
             ],
             [
              0.1111111111111111,
              "#46039f"
             ],
             [
              0.2222222222222222,
              "#7201a8"
             ],
             [
              0.3333333333333333,
              "#9c179e"
             ],
             [
              0.4444444444444444,
              "#bd3786"
             ],
             [
              0.5555555555555556,
              "#d8576b"
             ],
             [
              0.6666666666666666,
              "#ed7953"
             ],
             [
              0.7777777777777778,
              "#fb9f3a"
             ],
             [
              0.8888888888888888,
              "#fdca26"
             ],
             [
              1,
              "#f0f921"
             ]
            ],
            "type": "histogram2dcontour"
           }
          ],
          "mesh3d": [
           {
            "colorbar": {
             "outlinewidth": 0,
             "ticks": ""
            },
            "type": "mesh3d"
           }
          ],
          "parcoords": [
           {
            "line": {
             "colorbar": {
              "outlinewidth": 0,
              "ticks": ""
             }
            },
            "type": "parcoords"
           }
          ],
          "pie": [
           {
            "automargin": true,
            "type": "pie"
           }
          ],
          "scatter": [
           {
            "fillpattern": {
             "fillmode": "overlay",
             "size": 10,
             "solidity": 0.2
            },
            "type": "scatter"
           }
          ],
          "scatter3d": [
           {
            "line": {
             "colorbar": {
              "outlinewidth": 0,
              "ticks": ""
             }
            },
            "marker": {
             "colorbar": {
              "outlinewidth": 0,
              "ticks": ""
             }
            },
            "type": "scatter3d"
           }
          ],
          "scattercarpet": [
           {
            "marker": {
             "colorbar": {
              "outlinewidth": 0,
              "ticks": ""
             }
            },
            "type": "scattercarpet"
           }
          ],
          "scattergeo": [
           {
            "marker": {
             "colorbar": {
              "outlinewidth": 0,
              "ticks": ""
             }
            },
            "type": "scattergeo"
           }
          ],
          "scattergl": [
           {
            "marker": {
             "colorbar": {
              "outlinewidth": 0,
              "ticks": ""
             }
            },
            "type": "scattergl"
           }
          ],
          "scattermap": [
           {
            "marker": {
             "colorbar": {
              "outlinewidth": 0,
              "ticks": ""
             }
            },
            "type": "scattermap"
           }
          ],
          "scattermapbox": [
           {
            "marker": {
             "colorbar": {
              "outlinewidth": 0,
              "ticks": ""
             }
            },
            "type": "scattermapbox"
           }
          ],
          "scatterpolar": [
           {
            "marker": {
             "colorbar": {
              "outlinewidth": 0,
              "ticks": ""
             }
            },
            "type": "scatterpolar"
           }
          ],
          "scatterpolargl": [
           {
            "marker": {
             "colorbar": {
              "outlinewidth": 0,
              "ticks": ""
             }
            },
            "type": "scatterpolargl"
           }
          ],
          "scatterternary": [
           {
            "marker": {
             "colorbar": {
              "outlinewidth": 0,
              "ticks": ""
             }
            },
            "type": "scatterternary"
           }
          ],
          "surface": [
           {
            "colorbar": {
             "outlinewidth": 0,
             "ticks": ""
            },
            "colorscale": [
             [
              0,
              "#0d0887"
             ],
             [
              0.1111111111111111,
              "#46039f"
             ],
             [
              0.2222222222222222,
              "#7201a8"
             ],
             [
              0.3333333333333333,
              "#9c179e"
             ],
             [
              0.4444444444444444,
              "#bd3786"
             ],
             [
              0.5555555555555556,
              "#d8576b"
             ],
             [
              0.6666666666666666,
              "#ed7953"
             ],
             [
              0.7777777777777778,
              "#fb9f3a"
             ],
             [
              0.8888888888888888,
              "#fdca26"
             ],
             [
              1,
              "#f0f921"
             ]
            ],
            "type": "surface"
           }
          ],
          "table": [
           {
            "cells": {
             "fill": {
              "color": "#EBF0F8"
             },
             "line": {
              "color": "white"
             }
            },
            "header": {
             "fill": {
              "color": "#C8D4E3"
             },
             "line": {
              "color": "white"
             }
            },
            "type": "table"
           }
          ]
         },
         "layout": {
          "annotationdefaults": {
           "arrowcolor": "#2a3f5f",
           "arrowhead": 0,
           "arrowwidth": 1
          },
          "autotypenumbers": "strict",
          "coloraxis": {
           "colorbar": {
            "outlinewidth": 0,
            "ticks": ""
           }
          },
          "colorscale": {
           "diverging": [
            [
             0,
             "#8e0152"
            ],
            [
             0.1,
             "#c51b7d"
            ],
            [
             0.2,
             "#de77ae"
            ],
            [
             0.3,
             "#f1b6da"
            ],
            [
             0.4,
             "#fde0ef"
            ],
            [
             0.5,
             "#f7f7f7"
            ],
            [
             0.6,
             "#e6f5d0"
            ],
            [
             0.7,
             "#b8e186"
            ],
            [
             0.8,
             "#7fbc41"
            ],
            [
             0.9,
             "#4d9221"
            ],
            [
             1,
             "#276419"
            ]
           ],
           "sequential": [
            [
             0,
             "#0d0887"
            ],
            [
             0.1111111111111111,
             "#46039f"
            ],
            [
             0.2222222222222222,
             "#7201a8"
            ],
            [
             0.3333333333333333,
             "#9c179e"
            ],
            [
             0.4444444444444444,
             "#bd3786"
            ],
            [
             0.5555555555555556,
             "#d8576b"
            ],
            [
             0.6666666666666666,
             "#ed7953"
            ],
            [
             0.7777777777777778,
             "#fb9f3a"
            ],
            [
             0.8888888888888888,
             "#fdca26"
            ],
            [
             1,
             "#f0f921"
            ]
           ],
           "sequentialminus": [
            [
             0,
             "#0d0887"
            ],
            [
             0.1111111111111111,
             "#46039f"
            ],
            [
             0.2222222222222222,
             "#7201a8"
            ],
            [
             0.3333333333333333,
             "#9c179e"
            ],
            [
             0.4444444444444444,
             "#bd3786"
            ],
            [
             0.5555555555555556,
             "#d8576b"
            ],
            [
             0.6666666666666666,
             "#ed7953"
            ],
            [
             0.7777777777777778,
             "#fb9f3a"
            ],
            [
             0.8888888888888888,
             "#fdca26"
            ],
            [
             1,
             "#f0f921"
            ]
           ]
          },
          "colorway": [
           "#636efa",
           "#EF553B",
           "#00cc96",
           "#ab63fa",
           "#FFA15A",
           "#19d3f3",
           "#FF6692",
           "#B6E880",
           "#FF97FF",
           "#FECB52"
          ],
          "font": {
           "color": "#2a3f5f"
          },
          "geo": {
           "bgcolor": "white",
           "lakecolor": "white",
           "landcolor": "#E5ECF6",
           "showlakes": true,
           "showland": true,
           "subunitcolor": "white"
          },
          "hoverlabel": {
           "align": "left"
          },
          "hovermode": "closest",
          "mapbox": {
           "style": "light"
          },
          "paper_bgcolor": "white",
          "plot_bgcolor": "#E5ECF6",
          "polar": {
           "angularaxis": {
            "gridcolor": "white",
            "linecolor": "white",
            "ticks": ""
           },
           "bgcolor": "#E5ECF6",
           "radialaxis": {
            "gridcolor": "white",
            "linecolor": "white",
            "ticks": ""
           }
          },
          "scene": {
           "xaxis": {
            "backgroundcolor": "#E5ECF6",
            "gridcolor": "white",
            "gridwidth": 2,
            "linecolor": "white",
            "showbackground": true,
            "ticks": "",
            "zerolinecolor": "white"
           },
           "yaxis": {
            "backgroundcolor": "#E5ECF6",
            "gridcolor": "white",
            "gridwidth": 2,
            "linecolor": "white",
            "showbackground": true,
            "ticks": "",
            "zerolinecolor": "white"
           },
           "zaxis": {
            "backgroundcolor": "#E5ECF6",
            "gridcolor": "white",
            "gridwidth": 2,
            "linecolor": "white",
            "showbackground": true,
            "ticks": "",
            "zerolinecolor": "white"
           }
          },
          "shapedefaults": {
           "line": {
            "color": "#2a3f5f"
           }
          },
          "ternary": {
           "aaxis": {
            "gridcolor": "white",
            "linecolor": "white",
            "ticks": ""
           },
           "baxis": {
            "gridcolor": "white",
            "linecolor": "white",
            "ticks": ""
           },
           "bgcolor": "#E5ECF6",
           "caxis": {
            "gridcolor": "white",
            "linecolor": "white",
            "ticks": ""
           }
          },
          "title": {
           "x": 0.05
          },
          "xaxis": {
           "automargin": true,
           "gridcolor": "white",
           "linecolor": "white",
           "ticks": "",
           "title": {
            "standoff": 15
           },
           "zerolinecolor": "white",
           "zerolinewidth": 2
          },
          "yaxis": {
           "automargin": true,
           "gridcolor": "white",
           "linecolor": "white",
           "ticks": "",
           "title": {
            "standoff": 15
           },
           "zerolinecolor": "white",
           "zerolinewidth": 2
          }
         }
        },
        "title": {
         "text": "PCA Analysis of RNA Data"
        },
        "width": 400,
        "xaxis": {
         "anchor": "y",
         "domain": [
          0,
          1
         ],
         "title": {
          "text": "PC 1 (16.39% Variance)"
         }
        },
        "yaxis": {
         "anchor": "x",
         "domain": [
          0,
          1
         ],
         "title": {
          "text": "PC 2 (8.10% Variance)"
         }
        }
       }
      }
     },
     "metadata": {},
     "output_type": "display_data"
    },
    {
     "name": "stderr",
     "output_type": "stream",
     "text": [
      "/Users/dipalikale/Documents/Elucidata/personal_git/multiomics/.venv/lib/python3.11/site-packages/sklearn/impute/_base.py:635: UserWarning:\n",
      "\n",
      "Skipping features without any observed values: ['A0A0G2JMI3' 'A6BM72' 'A6NLP5' 'C9JVW0' 'O14598' 'O14788' 'O15131'\n",
      " 'O15540' 'O43186' 'O75712' 'O75795' 'P01036' 'P01135' 'P01762' 'P03989'\n",
      " 'P04155' 'P0DP02' 'P15086' 'P30460' 'P30484' 'P30487;P30488' 'P30492'\n",
      " 'P30990' 'P57738' 'Q02045' 'Q07837' 'Q13021' 'Q15759' 'Q16473' 'Q16553'\n",
      " 'Q499Z3' 'Q5SSQ6' 'Q5SWH9' 'Q5SWW7' 'Q5T754' 'Q695T7' 'Q6NUN0' 'Q6UWQ7'\n",
      " 'Q7Z7C7' 'Q86VH4' 'Q8IY42' 'Q8N729' 'Q8NFT8' 'Q8TBE0' 'Q8WVK7' 'Q8WW33'\n",
      " 'Q8WY98' 'Q96GU1' 'Q96KN3' 'Q96N76' 'Q96NJ1' 'Q96NZ9' 'Q9BSG5' 'Q9BYD5'\n",
      " 'Q9BYV1' 'Q9H2X3' 'Q9H649' 'Q9H707' 'Q9HBU1' 'Q9NRC9' 'Q9NZ42' 'Q9UBF1'\n",
      " 'Q9UJJ7' 'Q9UJM8' 'Q9UKR0' 'Q9ULW8' 'Q9UPI3' 'Q9Y258' 'Q9Y5L2']. At least one non-missing value is needed for imputation with strategy='mean'.\n",
      "\n"
     ]
    },
    {
     "data": {
      "application/vnd.plotly.v1+json": {
       "config": {
        "plotlyServerURL": "https://plot.ly"
       },
       "data": [
        {
         "hovertemplate": "<b>%{hovertext}</b><br><br>Label=Tumor<br>PC1=%{x}<br>PC2=%{y}<extra></extra>",
         "hovertext": [
          "LUAD_17T",
          "LUAD_18T",
          "LUAD_19T",
          "LUAD_20T",
          "LUAD_22T",
          "LUAD_23T",
          "LUAD_24T",
          "LUAD_25T",
          "LUAD_26T",
          "LUAD_27T",
          "LUAD_28T",
          "LUAD_29T",
          "LUAD_30T",
          "LUAD_33T",
          "LUAD_34T",
          "LUAD_35T",
          "LUAD_37T",
          "LUAD_38T",
          "LUAD_39T",
          "LUAD_40T",
          "LUAD_41T",
          "LUAD_42T",
          "LUAD_43T",
          "LUAD_44T",
          "LUAD_45T",
          "LUAD_46T",
          "LUAD_47T",
          "LUAD_48T",
          "LUAD_49T",
          "LUAD_50T",
          "LUAD_51T",
          "LUAD_52T",
          "LUAD_53T",
          "LUAD_54T",
          "LUAD_55T",
          "LUAD_56T",
          "LUAD_57T",
          "LUAD_58T",
          "LUAD_60T",
          "LUAD_61T",
          "LUAD_90T",
          "LUAD_91T"
         ],
         "legendgroup": "Tumor",
         "marker": {
          "color": "#636efa",
          "line": {
           "color": "DarkSlateGrey",
           "width": 2
          },
          "size": 10,
          "symbol": "circle"
         },
         "mode": "markers",
         "name": "Tumor",
         "orientation": "v",
         "showlegend": true,
         "type": "scatter",
         "x": {
          "bdata": "s7GWY9rBVUBT7QDuA4VSQAZ83TteLkpABI0CIdGHRkCFP21maXhHQAPNct7ShkBA5oLu3+9YUUBSbrv7cfc1QAQHhY0FRT5AA8hmb44mRkDYOQOe2b1FQDleESOhpQhAE2Ag87ZqSUBDkEzZYBJJQIVU1svKvi9AX6vKAOH0QEDRrGt+qlAyQJ6ZTT4C0DxAycnXzrttSEC35rq6/uZAQMqwdDqNZylAUPJ8pnYfT0BxXKOsamdLQMiyFJqdJjNAkjO0WJXFN0DrjjOmVOZKQKIJD0zZSCbAXtoFbmlEOkBVbDQEG1NSQIMcDXyjJE1APcTB3MgjMEBOiC3tR2hKQPm7SZX3cClA4JN3n+tCMECFkvKKtxoiQFjJJsVHsyZAbm9UyTn2J0CFi6N7bfhBQAAzgrEC1S1AlPcEpBcXO0C4XodnSFw5wK7Hv2RKABFA",
          "dtype": "f8"
         },
         "xaxis": "x",
         "y": {
          "bdata": "KLDncKmCSkCNMsJIRetIQIfnW1KyM01Af431uLu9VEC5Lpn0pPVSQDWLAWemojNAwPFX15yKNkB5UIPuZi00wBossiOy5k7AQ6+N+0WON8D0ST3xgIYkwHBpwQMKTyBAOxK/lGN8QMAFwykD3uPcv2RhgBgSNjDAso4Zi7eNO8CVNnA0nbc7wPo2+PeAehvAtpUvTI+mFMCx10zfTwERwDj7KTQjZSvA6aGWfZiNJsB1/8NlSoQQQMBU4zbGHjnAbEWhbeXHzb80zZSo3fwswIRi+uT/kw7AB/h1BVZmLcDZV7lDLVM+wFzzHBajNDnA6W6lmbLUOcAn5rl6q8k3wFHqdIQzvi/AY/gQ1cpiKcD9MaP4uxozwLt03LU/dxRAsgI7HGusDUBRUojb9FIHQHm2U8s3gTfAIe8IR4QMMcD7/az8oZ4oQL7PTGJrByfA",
          "dtype": "f8"
         },
         "yaxis": "y"
        },
        {
         "hovertemplate": "<b>%{hovertext}</b><br><br>Label=NAT<br>PC1=%{x}<br>PC2=%{y}<extra></extra>",
         "hovertext": [
          "LUAD_17N",
          "LUAD_18N",
          "LUAD_19N",
          "LUAD_20N",
          "LUAD_22N",
          "LUAD_23N",
          "LUAD_24N",
          "LUAD_25N",
          "LUAD_26N",
          "LUAD_27N",
          "LUAD_28N",
          "LUAD_29N",
          "LUAD_30N",
          "LUAD_33N",
          "LUAD_34N",
          "LUAD_35N",
          "LUAD_37N",
          "LUAD_38N",
          "LUAD_39N",
          "LUAD_40N",
          "LUAD_41N",
          "LUAD_42N",
          "LUAD_44N",
          "LUAD_45N",
          "LUAD_46N",
          "LUAD_47N",
          "LUAD_48N",
          "LUAD_49N",
          "LUAD_50N",
          "LUAD_51N",
          "LUAD_52N",
          "LUAD_53N",
          "LUAD_54N",
          "LUAD_55N",
          "LUAD_56N",
          "LUAD_57N",
          "LUAD_60N",
          "LUAD_61N",
          "LUAD_90N",
          "LUAD_91N"
         ],
         "legendgroup": "NAT",
         "marker": {
          "color": "#EF553B",
          "line": {
           "color": "DarkSlateGrey",
           "width": 2
          },
          "size": 10,
          "symbol": "circle"
         },
         "mode": "markers",
         "name": "NAT",
         "orientation": "v",
         "showlegend": true,
         "type": "scatter",
         "x": {
          "bdata": "rirXOQHNLsBmueAc9rBEwIVqUAxLq0HAZB21P1DzRcDlK1q2zDc/wFUEh5W3oUPA/zPm6bQ3PcAvtcLd6pVDwJrqsfvW9jzA9wchLZqRRMCdcBxq1TJCwCn6iVrhfETAp7ocpl1hQsABV7+zHyRCwBHfSLNl0ULAfw/OJWUEQ8B60Xr2bJVBwBFL894OK0LAPsNjZMNdQ8CTq6JehWpDwNnIqT79kELAfV/IwXkRRMBhJn2xLOo/wNYIPzevdkDAUrCg4zJqQcDirqGIxtBEwIi8pIOI7kHAB+AcnPHaPMAIEcrRYJ46wPtJEX8pCjjA3pN69Ve1M8Df4YLyYyRCwOY0c4M4AzvAil+VLF46Q8DWdhUbh28/wAF33SLkiELAFK/vf9B0QMCDWHa4KJhAwEVZfZ1KvETAtSFG1mkjRMA=",
          "dtype": "f8"
         },
         "xaxis": "x",
         "y": {
          "bdata": "aLxk7ecwPEAeCs9DtpotQOac6UP+dyNA/9E7oNdLMUDObPAcrxw1QKYYm5HgeBxArH6aZCt1HMBDIdBIx3AbwCKxq/HjQSDAd+9fnqd9GcBtJEvHioojwN8oYOa54APADChYWPT09z/UXNL4BZQeQEhABpVSkRDA28km1mSU+r/rFn6e6Rjiv6IImIP8Gh3Aa+7N5GMb+j+WjhCBbEUTwL+Z11bqVxrAjbzqBZ6bNED2Zg39VqgOwNI62HNJfew/WzV07flBJkCFmobktGYVQKWHdUXX0CFAJPuWwH8vKkA9a3+3WkoRQAm0yN9SF/Q/tg4SvWk5EECCwNFkcosmQLtVU3xABSFAhCruiVc4GcBRUnU6/zMSQLsFk/nNwNk/Zmtk7hFbFcA4ssPTqwf5P5x+RbLid+q/O2SL44RCDkA=",
          "dtype": "f8"
         },
         "yaxis": "y"
        }
       ],
       "layout": {
        "autosize": false,
        "height": 300,
        "legend": {
         "title": {
          "text": "Label"
         },
         "tracegroupgap": 0
        },
        "template": {
         "data": {
          "bar": [
           {
            "error_x": {
             "color": "#2a3f5f"
            },
            "error_y": {
             "color": "#2a3f5f"
            },
            "marker": {
             "line": {
              "color": "#E5ECF6",
              "width": 0.5
             },
             "pattern": {
              "fillmode": "overlay",
              "size": 10,
              "solidity": 0.2
             }
            },
            "type": "bar"
           }
          ],
          "barpolar": [
           {
            "marker": {
             "line": {
              "color": "#E5ECF6",
              "width": 0.5
             },
             "pattern": {
              "fillmode": "overlay",
              "size": 10,
              "solidity": 0.2
             }
            },
            "type": "barpolar"
           }
          ],
          "carpet": [
           {
            "aaxis": {
             "endlinecolor": "#2a3f5f",
             "gridcolor": "white",
             "linecolor": "white",
             "minorgridcolor": "white",
             "startlinecolor": "#2a3f5f"
            },
            "baxis": {
             "endlinecolor": "#2a3f5f",
             "gridcolor": "white",
             "linecolor": "white",
             "minorgridcolor": "white",
             "startlinecolor": "#2a3f5f"
            },
            "type": "carpet"
           }
          ],
          "choropleth": [
           {
            "colorbar": {
             "outlinewidth": 0,
             "ticks": ""
            },
            "type": "choropleth"
           }
          ],
          "contour": [
           {
            "colorbar": {
             "outlinewidth": 0,
             "ticks": ""
            },
            "colorscale": [
             [
              0,
              "#0d0887"
             ],
             [
              0.1111111111111111,
              "#46039f"
             ],
             [
              0.2222222222222222,
              "#7201a8"
             ],
             [
              0.3333333333333333,
              "#9c179e"
             ],
             [
              0.4444444444444444,
              "#bd3786"
             ],
             [
              0.5555555555555556,
              "#d8576b"
             ],
             [
              0.6666666666666666,
              "#ed7953"
             ],
             [
              0.7777777777777778,
              "#fb9f3a"
             ],
             [
              0.8888888888888888,
              "#fdca26"
             ],
             [
              1,
              "#f0f921"
             ]
            ],
            "type": "contour"
           }
          ],
          "contourcarpet": [
           {
            "colorbar": {
             "outlinewidth": 0,
             "ticks": ""
            },
            "type": "contourcarpet"
           }
          ],
          "heatmap": [
           {
            "colorbar": {
             "outlinewidth": 0,
             "ticks": ""
            },
            "colorscale": [
             [
              0,
              "#0d0887"
             ],
             [
              0.1111111111111111,
              "#46039f"
             ],
             [
              0.2222222222222222,
              "#7201a8"
             ],
             [
              0.3333333333333333,
              "#9c179e"
             ],
             [
              0.4444444444444444,
              "#bd3786"
             ],
             [
              0.5555555555555556,
              "#d8576b"
             ],
             [
              0.6666666666666666,
              "#ed7953"
             ],
             [
              0.7777777777777778,
              "#fb9f3a"
             ],
             [
              0.8888888888888888,
              "#fdca26"
             ],
             [
              1,
              "#f0f921"
             ]
            ],
            "type": "heatmap"
           }
          ],
          "histogram": [
           {
            "marker": {
             "pattern": {
              "fillmode": "overlay",
              "size": 10,
              "solidity": 0.2
             }
            },
            "type": "histogram"
           }
          ],
          "histogram2d": [
           {
            "colorbar": {
             "outlinewidth": 0,
             "ticks": ""
            },
            "colorscale": [
             [
              0,
              "#0d0887"
             ],
             [
              0.1111111111111111,
              "#46039f"
             ],
             [
              0.2222222222222222,
              "#7201a8"
             ],
             [
              0.3333333333333333,
              "#9c179e"
             ],
             [
              0.4444444444444444,
              "#bd3786"
             ],
             [
              0.5555555555555556,
              "#d8576b"
             ],
             [
              0.6666666666666666,
              "#ed7953"
             ],
             [
              0.7777777777777778,
              "#fb9f3a"
             ],
             [
              0.8888888888888888,
              "#fdca26"
             ],
             [
              1,
              "#f0f921"
             ]
            ],
            "type": "histogram2d"
           }
          ],
          "histogram2dcontour": [
           {
            "colorbar": {
             "outlinewidth": 0,
             "ticks": ""
            },
            "colorscale": [
             [
              0,
              "#0d0887"
             ],
             [
              0.1111111111111111,
              "#46039f"
             ],
             [
              0.2222222222222222,
              "#7201a8"
             ],
             [
              0.3333333333333333,
              "#9c179e"
             ],
             [
              0.4444444444444444,
              "#bd3786"
             ],
             [
              0.5555555555555556,
              "#d8576b"
             ],
             [
              0.6666666666666666,
              "#ed7953"
             ],
             [
              0.7777777777777778,
              "#fb9f3a"
             ],
             [
              0.8888888888888888,
              "#fdca26"
             ],
             [
              1,
              "#f0f921"
             ]
            ],
            "type": "histogram2dcontour"
           }
          ],
          "mesh3d": [
           {
            "colorbar": {
             "outlinewidth": 0,
             "ticks": ""
            },
            "type": "mesh3d"
           }
          ],
          "parcoords": [
           {
            "line": {
             "colorbar": {
              "outlinewidth": 0,
              "ticks": ""
             }
            },
            "type": "parcoords"
           }
          ],
          "pie": [
           {
            "automargin": true,
            "type": "pie"
           }
          ],
          "scatter": [
           {
            "fillpattern": {
             "fillmode": "overlay",
             "size": 10,
             "solidity": 0.2
            },
            "type": "scatter"
           }
          ],
          "scatter3d": [
           {
            "line": {
             "colorbar": {
              "outlinewidth": 0,
              "ticks": ""
             }
            },
            "marker": {
             "colorbar": {
              "outlinewidth": 0,
              "ticks": ""
             }
            },
            "type": "scatter3d"
           }
          ],
          "scattercarpet": [
           {
            "marker": {
             "colorbar": {
              "outlinewidth": 0,
              "ticks": ""
             }
            },
            "type": "scattercarpet"
           }
          ],
          "scattergeo": [
           {
            "marker": {
             "colorbar": {
              "outlinewidth": 0,
              "ticks": ""
             }
            },
            "type": "scattergeo"
           }
          ],
          "scattergl": [
           {
            "marker": {
             "colorbar": {
              "outlinewidth": 0,
              "ticks": ""
             }
            },
            "type": "scattergl"
           }
          ],
          "scattermap": [
           {
            "marker": {
             "colorbar": {
              "outlinewidth": 0,
              "ticks": ""
             }
            },
            "type": "scattermap"
           }
          ],
          "scattermapbox": [
           {
            "marker": {
             "colorbar": {
              "outlinewidth": 0,
              "ticks": ""
             }
            },
            "type": "scattermapbox"
           }
          ],
          "scatterpolar": [
           {
            "marker": {
             "colorbar": {
              "outlinewidth": 0,
              "ticks": ""
             }
            },
            "type": "scatterpolar"
           }
          ],
          "scatterpolargl": [
           {
            "marker": {
             "colorbar": {
              "outlinewidth": 0,
              "ticks": ""
             }
            },
            "type": "scatterpolargl"
           }
          ],
          "scatterternary": [
           {
            "marker": {
             "colorbar": {
              "outlinewidth": 0,
              "ticks": ""
             }
            },
            "type": "scatterternary"
           }
          ],
          "surface": [
           {
            "colorbar": {
             "outlinewidth": 0,
             "ticks": ""
            },
            "colorscale": [
             [
              0,
              "#0d0887"
             ],
             [
              0.1111111111111111,
              "#46039f"
             ],
             [
              0.2222222222222222,
              "#7201a8"
             ],
             [
              0.3333333333333333,
              "#9c179e"
             ],
             [
              0.4444444444444444,
              "#bd3786"
             ],
             [
              0.5555555555555556,
              "#d8576b"
             ],
             [
              0.6666666666666666,
              "#ed7953"
             ],
             [
              0.7777777777777778,
              "#fb9f3a"
             ],
             [
              0.8888888888888888,
              "#fdca26"
             ],
             [
              1,
              "#f0f921"
             ]
            ],
            "type": "surface"
           }
          ],
          "table": [
           {
            "cells": {
             "fill": {
              "color": "#EBF0F8"
             },
             "line": {
              "color": "white"
             }
            },
            "header": {
             "fill": {
              "color": "#C8D4E3"
             },
             "line": {
              "color": "white"
             }
            },
            "type": "table"
           }
          ]
         },
         "layout": {
          "annotationdefaults": {
           "arrowcolor": "#2a3f5f",
           "arrowhead": 0,
           "arrowwidth": 1
          },
          "autotypenumbers": "strict",
          "coloraxis": {
           "colorbar": {
            "outlinewidth": 0,
            "ticks": ""
           }
          },
          "colorscale": {
           "diverging": [
            [
             0,
             "#8e0152"
            ],
            [
             0.1,
             "#c51b7d"
            ],
            [
             0.2,
             "#de77ae"
            ],
            [
             0.3,
             "#f1b6da"
            ],
            [
             0.4,
             "#fde0ef"
            ],
            [
             0.5,
             "#f7f7f7"
            ],
            [
             0.6,
             "#e6f5d0"
            ],
            [
             0.7,
             "#b8e186"
            ],
            [
             0.8,
             "#7fbc41"
            ],
            [
             0.9,
             "#4d9221"
            ],
            [
             1,
             "#276419"
            ]
           ],
           "sequential": [
            [
             0,
             "#0d0887"
            ],
            [
             0.1111111111111111,
             "#46039f"
            ],
            [
             0.2222222222222222,
             "#7201a8"
            ],
            [
             0.3333333333333333,
             "#9c179e"
            ],
            [
             0.4444444444444444,
             "#bd3786"
            ],
            [
             0.5555555555555556,
             "#d8576b"
            ],
            [
             0.6666666666666666,
             "#ed7953"
            ],
            [
             0.7777777777777778,
             "#fb9f3a"
            ],
            [
             0.8888888888888888,
             "#fdca26"
            ],
            [
             1,
             "#f0f921"
            ]
           ],
           "sequentialminus": [
            [
             0,
             "#0d0887"
            ],
            [
             0.1111111111111111,
             "#46039f"
            ],
            [
             0.2222222222222222,
             "#7201a8"
            ],
            [
             0.3333333333333333,
             "#9c179e"
            ],
            [
             0.4444444444444444,
             "#bd3786"
            ],
            [
             0.5555555555555556,
             "#d8576b"
            ],
            [
             0.6666666666666666,
             "#ed7953"
            ],
            [
             0.7777777777777778,
             "#fb9f3a"
            ],
            [
             0.8888888888888888,
             "#fdca26"
            ],
            [
             1,
             "#f0f921"
            ]
           ]
          },
          "colorway": [
           "#636efa",
           "#EF553B",
           "#00cc96",
           "#ab63fa",
           "#FFA15A",
           "#19d3f3",
           "#FF6692",
           "#B6E880",
           "#FF97FF",
           "#FECB52"
          ],
          "font": {
           "color": "#2a3f5f"
          },
          "geo": {
           "bgcolor": "white",
           "lakecolor": "white",
           "landcolor": "#E5ECF6",
           "showlakes": true,
           "showland": true,
           "subunitcolor": "white"
          },
          "hoverlabel": {
           "align": "left"
          },
          "hovermode": "closest",
          "mapbox": {
           "style": "light"
          },
          "paper_bgcolor": "white",
          "plot_bgcolor": "#E5ECF6",
          "polar": {
           "angularaxis": {
            "gridcolor": "white",
            "linecolor": "white",
            "ticks": ""
           },
           "bgcolor": "#E5ECF6",
           "radialaxis": {
            "gridcolor": "white",
            "linecolor": "white",
            "ticks": ""
           }
          },
          "scene": {
           "xaxis": {
            "backgroundcolor": "#E5ECF6",
            "gridcolor": "white",
            "gridwidth": 2,
            "linecolor": "white",
            "showbackground": true,
            "ticks": "",
            "zerolinecolor": "white"
           },
           "yaxis": {
            "backgroundcolor": "#E5ECF6",
            "gridcolor": "white",
            "gridwidth": 2,
            "linecolor": "white",
            "showbackground": true,
            "ticks": "",
            "zerolinecolor": "white"
           },
           "zaxis": {
            "backgroundcolor": "#E5ECF6",
            "gridcolor": "white",
            "gridwidth": 2,
            "linecolor": "white",
            "showbackground": true,
            "ticks": "",
            "zerolinecolor": "white"
           }
          },
          "shapedefaults": {
           "line": {
            "color": "#2a3f5f"
           }
          },
          "ternary": {
           "aaxis": {
            "gridcolor": "white",
            "linecolor": "white",
            "ticks": ""
           },
           "baxis": {
            "gridcolor": "white",
            "linecolor": "white",
            "ticks": ""
           },
           "bgcolor": "#E5ECF6",
           "caxis": {
            "gridcolor": "white",
            "linecolor": "white",
            "ticks": ""
           }
          },
          "title": {
           "x": 0.05
          },
          "xaxis": {
           "automargin": true,
           "gridcolor": "white",
           "linecolor": "white",
           "ticks": "",
           "title": {
            "standoff": 15
           },
           "zerolinecolor": "white",
           "zerolinewidth": 2
          },
          "yaxis": {
           "automargin": true,
           "gridcolor": "white",
           "linecolor": "white",
           "ticks": "",
           "title": {
            "standoff": 15
           },
           "zerolinecolor": "white",
           "zerolinewidth": 2
          }
         }
        },
        "title": {
         "text": "PCA Analysis of Protein Data"
        },
        "width": 400,
        "xaxis": {
         "anchor": "y",
         "domain": [
          0,
          1
         ],
         "title": {
          "text": "PC 1 (13.33% Variance)"
         }
        },
        "yaxis": {
         "anchor": "x",
         "domain": [
          0,
          1
         ],
         "title": {
          "text": "PC 2 (4.45% Variance)"
         }
        }
       }
      }
     },
     "metadata": {},
     "output_type": "display_data"
    },
    {
     "data": {
      "application/vnd.plotly.v1+json": {
       "config": {
        "plotlyServerURL": "https://plot.ly"
       },
       "data": [
        {
         "hovertemplate": "<b>%{hovertext}</b><br><br>Label=Tumor<br>PC1=%{x}<br>PC2=%{y}<extra></extra>",
         "hovertext": [
          "LUAD_17T",
          "LUAD_18T",
          "LUAD_19T",
          "LUAD_20T",
          "LUAD_22T",
          "LUAD_23T",
          "LUAD_24T",
          "LUAD_25T",
          "LUAD_26T",
          "LUAD_27T",
          "LUAD_28T",
          "LUAD_29T",
          "LUAD_30T",
          "LUAD_33T",
          "LUAD_34T",
          "LUAD_35T",
          "LUAD_37T",
          "LUAD_38T",
          "LUAD_39T",
          "LUAD_40T",
          "LUAD_41T",
          "LUAD_42T",
          "LUAD_43T",
          "LUAD_44T",
          "LUAD_45T",
          "LUAD_46T",
          "LUAD_47T",
          "LUAD_48T",
          "LUAD_49T",
          "LUAD_50T",
          "LUAD_51T",
          "LUAD_52T",
          "LUAD_53T",
          "LUAD_54T",
          "LUAD_55T",
          "LUAD_56T",
          "LUAD_57T",
          "LUAD_58T",
          "LUAD_60T",
          "LUAD_61T",
          "LUAD_90T",
          "LUAD_91T"
         ],
         "legendgroup": "Tumor",
         "marker": {
          "color": "#636efa",
          "line": {
           "color": "DarkSlateGrey",
           "width": 2
          },
          "size": 10,
          "symbol": "circle"
         },
         "mode": "markers",
         "name": "Tumor",
         "orientation": "v",
         "showlegend": true,
         "type": "scatter",
         "x": {
          "bdata": "CP98SzMVQUD29rNTMFQ8QBdO/RPsdUNAwYwepoV1IEAOIt1YiEYwQLtH7q6nNTJAPGnzO3mtSEACpN6eUwc+QCWLI789hDPA5NqGY07cOkCmoDzokAQ+QEDuvM51mRXAU3GGxdcxHECQBbpKwXs0QHJnWIBQZiFAUYcHVw0pNEBtfapehbg8QAdsFARgXTNAicEJy7lhK0CCLnJRbfhXQIQhumrHPEtAlhqccO6JHECny6/Y2eAjQE75CeltY0NAm09O+TwVI0Da+pZCWHg3QNs5X5/uOQfAp9XLlYJZQ0AhFombUI9FQG+gSYfSy+8/hor+A3h/J0CpE8d3TPw5QAGh9PUuLQ/AnOSLoR6cKkBrRpL9FfkaQNoSssQnbMc/svEvmewQCsAdx6CRG6fPPxmHlK208gNAW1Z/79AN/j+qIWOKujM0wHyUwft/eSfA",
          "dtype": "f8"
         },
         "xaxis": "x",
         "y": {
          "bdata": "+W9eZkqjO8D3Ml3AG6ErwPH/fyE7pi3A5i9vse2kIsB3zndHYYYjwGK71FtK3jPAEN+9H+HFNcDOkn07cY4LwK+Pe4CFDxrA/kuN5WhhM8AVEFAxaRk1wPJfcOXHAAPA+VtzLzOMKsAS87MZH0sZwPtZWDcXhBzANbrzK8SnMMBdy0tGSRwrwFqkw9sX8/u/FQjkvGZbHcCmZxEt0zRaQAfUNUfvWkpA2ACPALIsMsCHg+qETH8QwPm+HP/tJSTAs2Neio3VGcBXfYBFQfImwORlqRENPQtA2joROWpUK8AWFRB/Y4wxwHAT1Vlt9ivAks2efGSBHMBPhDmCZZEvwE3jEgYFQBLAumsMEgYSJsCf8dhSvsohwG7gnthPxvW/iBlECz1+AcA4E7W42rgtwCneYu+bLiLAgIchYSUzIMB5ylnjnYMIQDUtA25Qkg3A",
          "dtype": "f8"
         },
         "yaxis": "y"
        },
        {
         "hovertemplate": "<b>%{hovertext}</b><br><br>Label=NAT<br>PC1=%{x}<br>PC2=%{y}<extra></extra>",
         "hovertext": [
          "LUAD_17N",
          "LUAD_18N",
          "LUAD_19N",
          "LUAD_20N",
          "LUAD_22N",
          "LUAD_23N",
          "LUAD_24N",
          "LUAD_25N",
          "LUAD_26N",
          "LUAD_27N",
          "LUAD_28N",
          "LUAD_29N",
          "LUAD_30N",
          "LUAD_33N",
          "LUAD_34N",
          "LUAD_35N",
          "LUAD_37N",
          "LUAD_38N",
          "LUAD_39N",
          "LUAD_40N",
          "LUAD_41N",
          "LUAD_42N",
          "LUAD_44N",
          "LUAD_45N",
          "LUAD_46N",
          "LUAD_47N",
          "LUAD_48N",
          "LUAD_49N",
          "LUAD_50N",
          "LUAD_51N",
          "LUAD_52N",
          "LUAD_53N",
          "LUAD_54N",
          "LUAD_55N",
          "LUAD_56N",
          "LUAD_57N",
          "LUAD_60N",
          "LUAD_61N",
          "LUAD_90N",
          "LUAD_91N"
         ],
         "legendgroup": "NAT",
         "marker": {
          "color": "#EF553B",
          "line": {
           "color": "DarkSlateGrey",
           "width": 2
          },
          "size": 10,
          "symbol": "circle"
         },
         "mode": "markers",
         "name": "NAT",
         "orientation": "v",
         "showlegend": true,
         "type": "scatter",
         "x": {
          "bdata": "sV9PTT2tOcDvk3witc80wE3b3sEFWC7ArJ1bOAFsOcDI6jzELNU1wDjURFxlZCLAe3BYuOD3MsDnoXdAxK4nwNGWCzDQNTXARKYfrC2FOcB4HZRRQrkzwNMoLQq4XTrAfc9ACDnWNcBer9VDdhI1wCdmidw/hjXAmFNjrZ2XN8Br/LYmrhshwEqhF2tF+TnAgUmStkAdOMDtIEmrvVorwMwJRjadhSPARieWKrp6M8BmyyzhUKgSwEF/rnSrHy3AL+NxsgRZNsCUkTMqr8UywIYGnafwJhXAJzxNaaiwJEC9Lek28f4wwGxpzTAvAyHAyWjvrTLFKMAVbuiOyPs0wNuakubsRjHAh3K1bofKMsCcapEOono3wJ8BV11CzzPAP+0RAmq1LcDH9mxnfjozwNY+HmeQ/TvAAK8XT+tYPcA=",
          "dtype": "f8"
         },
         "xaxis": "x",
         "y": {
          "bdata": "LvJ3S0TtBUB8SO63XpsVQEP5aFLHlhFATISxFOAmFUBdJkg1YdUQQOV89Ykpnuu/Rv9Vu5A9CEB2b42AxRckQEolbB5ODeM/84E+U4RrFEACUWAKdSUMQN9eivtBOg5AdTZqdQovFEBPZdDI9AUXQLu75N28/RRAF6oK4SsOEkArt2rG6l0gQFbQnB/QwQlA+pqG4gpHEUDamIwQgJY5QGJBRxF9eEBA2HTmwN0BH0AAeWyGlzEgQF0bTRaImBBA9MKBR/+DEkAT3IxZCfQsQPTpD+q19ydAPNshBodFAUDCQXku9Kv8P3FDJO3OVBJA28yqeGGwBkDnsHZy5C4WQIDJ1K4cEAxAqDAq2v7hHEAgfrZkNb0fQIxMfKKtqyJA4Rug81Z2FUABbivzA+UNQDis+CAWyg9A6ZnFrSMrB0A=",
          "dtype": "f8"
         },
         "yaxis": "y"
        }
       ],
       "layout": {
        "autosize": false,
        "height": 300,
        "legend": {
         "title": {
          "text": "Label"
         },
         "tracegroupgap": 0
        },
        "template": {
         "data": {
          "bar": [
           {
            "error_x": {
             "color": "#2a3f5f"
            },
            "error_y": {
             "color": "#2a3f5f"
            },
            "marker": {
             "line": {
              "color": "#E5ECF6",
              "width": 0.5
             },
             "pattern": {
              "fillmode": "overlay",
              "size": 10,
              "solidity": 0.2
             }
            },
            "type": "bar"
           }
          ],
          "barpolar": [
           {
            "marker": {
             "line": {
              "color": "#E5ECF6",
              "width": 0.5
             },
             "pattern": {
              "fillmode": "overlay",
              "size": 10,
              "solidity": 0.2
             }
            },
            "type": "barpolar"
           }
          ],
          "carpet": [
           {
            "aaxis": {
             "endlinecolor": "#2a3f5f",
             "gridcolor": "white",
             "linecolor": "white",
             "minorgridcolor": "white",
             "startlinecolor": "#2a3f5f"
            },
            "baxis": {
             "endlinecolor": "#2a3f5f",
             "gridcolor": "white",
             "linecolor": "white",
             "minorgridcolor": "white",
             "startlinecolor": "#2a3f5f"
            },
            "type": "carpet"
           }
          ],
          "choropleth": [
           {
            "colorbar": {
             "outlinewidth": 0,
             "ticks": ""
            },
            "type": "choropleth"
           }
          ],
          "contour": [
           {
            "colorbar": {
             "outlinewidth": 0,
             "ticks": ""
            },
            "colorscale": [
             [
              0,
              "#0d0887"
             ],
             [
              0.1111111111111111,
              "#46039f"
             ],
             [
              0.2222222222222222,
              "#7201a8"
             ],
             [
              0.3333333333333333,
              "#9c179e"
             ],
             [
              0.4444444444444444,
              "#bd3786"
             ],
             [
              0.5555555555555556,
              "#d8576b"
             ],
             [
              0.6666666666666666,
              "#ed7953"
             ],
             [
              0.7777777777777778,
              "#fb9f3a"
             ],
             [
              0.8888888888888888,
              "#fdca26"
             ],
             [
              1,
              "#f0f921"
             ]
            ],
            "type": "contour"
           }
          ],
          "contourcarpet": [
           {
            "colorbar": {
             "outlinewidth": 0,
             "ticks": ""
            },
            "type": "contourcarpet"
           }
          ],
          "heatmap": [
           {
            "colorbar": {
             "outlinewidth": 0,
             "ticks": ""
            },
            "colorscale": [
             [
              0,
              "#0d0887"
             ],
             [
              0.1111111111111111,
              "#46039f"
             ],
             [
              0.2222222222222222,
              "#7201a8"
             ],
             [
              0.3333333333333333,
              "#9c179e"
             ],
             [
              0.4444444444444444,
              "#bd3786"
             ],
             [
              0.5555555555555556,
              "#d8576b"
             ],
             [
              0.6666666666666666,
              "#ed7953"
             ],
             [
              0.7777777777777778,
              "#fb9f3a"
             ],
             [
              0.8888888888888888,
              "#fdca26"
             ],
             [
              1,
              "#f0f921"
             ]
            ],
            "type": "heatmap"
           }
          ],
          "histogram": [
           {
            "marker": {
             "pattern": {
              "fillmode": "overlay",
              "size": 10,
              "solidity": 0.2
             }
            },
            "type": "histogram"
           }
          ],
          "histogram2d": [
           {
            "colorbar": {
             "outlinewidth": 0,
             "ticks": ""
            },
            "colorscale": [
             [
              0,
              "#0d0887"
             ],
             [
              0.1111111111111111,
              "#46039f"
             ],
             [
              0.2222222222222222,
              "#7201a8"
             ],
             [
              0.3333333333333333,
              "#9c179e"
             ],
             [
              0.4444444444444444,
              "#bd3786"
             ],
             [
              0.5555555555555556,
              "#d8576b"
             ],
             [
              0.6666666666666666,
              "#ed7953"
             ],
             [
              0.7777777777777778,
              "#fb9f3a"
             ],
             [
              0.8888888888888888,
              "#fdca26"
             ],
             [
              1,
              "#f0f921"
             ]
            ],
            "type": "histogram2d"
           }
          ],
          "histogram2dcontour": [
           {
            "colorbar": {
             "outlinewidth": 0,
             "ticks": ""
            },
            "colorscale": [
             [
              0,
              "#0d0887"
             ],
             [
              0.1111111111111111,
              "#46039f"
             ],
             [
              0.2222222222222222,
              "#7201a8"
             ],
             [
              0.3333333333333333,
              "#9c179e"
             ],
             [
              0.4444444444444444,
              "#bd3786"
             ],
             [
              0.5555555555555556,
              "#d8576b"
             ],
             [
              0.6666666666666666,
              "#ed7953"
             ],
             [
              0.7777777777777778,
              "#fb9f3a"
             ],
             [
              0.8888888888888888,
              "#fdca26"
             ],
             [
              1,
              "#f0f921"
             ]
            ],
            "type": "histogram2dcontour"
           }
          ],
          "mesh3d": [
           {
            "colorbar": {
             "outlinewidth": 0,
             "ticks": ""
            },
            "type": "mesh3d"
           }
          ],
          "parcoords": [
           {
            "line": {
             "colorbar": {
              "outlinewidth": 0,
              "ticks": ""
             }
            },
            "type": "parcoords"
           }
          ],
          "pie": [
           {
            "automargin": true,
            "type": "pie"
           }
          ],
          "scatter": [
           {
            "fillpattern": {
             "fillmode": "overlay",
             "size": 10,
             "solidity": 0.2
            },
            "type": "scatter"
           }
          ],
          "scatter3d": [
           {
            "line": {
             "colorbar": {
              "outlinewidth": 0,
              "ticks": ""
             }
            },
            "marker": {
             "colorbar": {
              "outlinewidth": 0,
              "ticks": ""
             }
            },
            "type": "scatter3d"
           }
          ],
          "scattercarpet": [
           {
            "marker": {
             "colorbar": {
              "outlinewidth": 0,
              "ticks": ""
             }
            },
            "type": "scattercarpet"
           }
          ],
          "scattergeo": [
           {
            "marker": {
             "colorbar": {
              "outlinewidth": 0,
              "ticks": ""
             }
            },
            "type": "scattergeo"
           }
          ],
          "scattergl": [
           {
            "marker": {
             "colorbar": {
              "outlinewidth": 0,
              "ticks": ""
             }
            },
            "type": "scattergl"
           }
          ],
          "scattermap": [
           {
            "marker": {
             "colorbar": {
              "outlinewidth": 0,
              "ticks": ""
             }
            },
            "type": "scattermap"
           }
          ],
          "scattermapbox": [
           {
            "marker": {
             "colorbar": {
              "outlinewidth": 0,
              "ticks": ""
             }
            },
            "type": "scattermapbox"
           }
          ],
          "scatterpolar": [
           {
            "marker": {
             "colorbar": {
              "outlinewidth": 0,
              "ticks": ""
             }
            },
            "type": "scatterpolar"
           }
          ],
          "scatterpolargl": [
           {
            "marker": {
             "colorbar": {
              "outlinewidth": 0,
              "ticks": ""
             }
            },
            "type": "scatterpolargl"
           }
          ],
          "scatterternary": [
           {
            "marker": {
             "colorbar": {
              "outlinewidth": 0,
              "ticks": ""
             }
            },
            "type": "scatterternary"
           }
          ],
          "surface": [
           {
            "colorbar": {
             "outlinewidth": 0,
             "ticks": ""
            },
            "colorscale": [
             [
              0,
              "#0d0887"
             ],
             [
              0.1111111111111111,
              "#46039f"
             ],
             [
              0.2222222222222222,
              "#7201a8"
             ],
             [
              0.3333333333333333,
              "#9c179e"
             ],
             [
              0.4444444444444444,
              "#bd3786"
             ],
             [
              0.5555555555555556,
              "#d8576b"
             ],
             [
              0.6666666666666666,
              "#ed7953"
             ],
             [
              0.7777777777777778,
              "#fb9f3a"
             ],
             [
              0.8888888888888888,
              "#fdca26"
             ],
             [
              1,
              "#f0f921"
             ]
            ],
            "type": "surface"
           }
          ],
          "table": [
           {
            "cells": {
             "fill": {
              "color": "#EBF0F8"
             },
             "line": {
              "color": "white"
             }
            },
            "header": {
             "fill": {
              "color": "#C8D4E3"
             },
             "line": {
              "color": "white"
             }
            },
            "type": "table"
           }
          ]
         },
         "layout": {
          "annotationdefaults": {
           "arrowcolor": "#2a3f5f",
           "arrowhead": 0,
           "arrowwidth": 1
          },
          "autotypenumbers": "strict",
          "coloraxis": {
           "colorbar": {
            "outlinewidth": 0,
            "ticks": ""
           }
          },
          "colorscale": {
           "diverging": [
            [
             0,
             "#8e0152"
            ],
            [
             0.1,
             "#c51b7d"
            ],
            [
             0.2,
             "#de77ae"
            ],
            [
             0.3,
             "#f1b6da"
            ],
            [
             0.4,
             "#fde0ef"
            ],
            [
             0.5,
             "#f7f7f7"
            ],
            [
             0.6,
             "#e6f5d0"
            ],
            [
             0.7,
             "#b8e186"
            ],
            [
             0.8,
             "#7fbc41"
            ],
            [
             0.9,
             "#4d9221"
            ],
            [
             1,
             "#276419"
            ]
           ],
           "sequential": [
            [
             0,
             "#0d0887"
            ],
            [
             0.1111111111111111,
             "#46039f"
            ],
            [
             0.2222222222222222,
             "#7201a8"
            ],
            [
             0.3333333333333333,
             "#9c179e"
            ],
            [
             0.4444444444444444,
             "#bd3786"
            ],
            [
             0.5555555555555556,
             "#d8576b"
            ],
            [
             0.6666666666666666,
             "#ed7953"
            ],
            [
             0.7777777777777778,
             "#fb9f3a"
            ],
            [
             0.8888888888888888,
             "#fdca26"
            ],
            [
             1,
             "#f0f921"
            ]
           ],
           "sequentialminus": [
            [
             0,
             "#0d0887"
            ],
            [
             0.1111111111111111,
             "#46039f"
            ],
            [
             0.2222222222222222,
             "#7201a8"
            ],
            [
             0.3333333333333333,
             "#9c179e"
            ],
            [
             0.4444444444444444,
             "#bd3786"
            ],
            [
             0.5555555555555556,
             "#d8576b"
            ],
            [
             0.6666666666666666,
             "#ed7953"
            ],
            [
             0.7777777777777778,
             "#fb9f3a"
            ],
            [
             0.8888888888888888,
             "#fdca26"
            ],
            [
             1,
             "#f0f921"
            ]
           ]
          },
          "colorway": [
           "#636efa",
           "#EF553B",
           "#00cc96",
           "#ab63fa",
           "#FFA15A",
           "#19d3f3",
           "#FF6692",
           "#B6E880",
           "#FF97FF",
           "#FECB52"
          ],
          "font": {
           "color": "#2a3f5f"
          },
          "geo": {
           "bgcolor": "white",
           "lakecolor": "white",
           "landcolor": "#E5ECF6",
           "showlakes": true,
           "showland": true,
           "subunitcolor": "white"
          },
          "hoverlabel": {
           "align": "left"
          },
          "hovermode": "closest",
          "mapbox": {
           "style": "light"
          },
          "paper_bgcolor": "white",
          "plot_bgcolor": "#E5ECF6",
          "polar": {
           "angularaxis": {
            "gridcolor": "white",
            "linecolor": "white",
            "ticks": ""
           },
           "bgcolor": "#E5ECF6",
           "radialaxis": {
            "gridcolor": "white",
            "linecolor": "white",
            "ticks": ""
           }
          },
          "scene": {
           "xaxis": {
            "backgroundcolor": "#E5ECF6",
            "gridcolor": "white",
            "gridwidth": 2,
            "linecolor": "white",
            "showbackground": true,
            "ticks": "",
            "zerolinecolor": "white"
           },
           "yaxis": {
            "backgroundcolor": "#E5ECF6",
            "gridcolor": "white",
            "gridwidth": 2,
            "linecolor": "white",
            "showbackground": true,
            "ticks": "",
            "zerolinecolor": "white"
           },
           "zaxis": {
            "backgroundcolor": "#E5ECF6",
            "gridcolor": "white",
            "gridwidth": 2,
            "linecolor": "white",
            "showbackground": true,
            "ticks": "",
            "zerolinecolor": "white"
           }
          },
          "shapedefaults": {
           "line": {
            "color": "#2a3f5f"
           }
          },
          "ternary": {
           "aaxis": {
            "gridcolor": "white",
            "linecolor": "white",
            "ticks": ""
           },
           "baxis": {
            "gridcolor": "white",
            "linecolor": "white",
            "ticks": ""
           },
           "bgcolor": "#E5ECF6",
           "caxis": {
            "gridcolor": "white",
            "linecolor": "white",
            "ticks": ""
           }
          },
          "title": {
           "x": 0.05
          },
          "xaxis": {
           "automargin": true,
           "gridcolor": "white",
           "linecolor": "white",
           "ticks": "",
           "title": {
            "standoff": 15
           },
           "zerolinecolor": "white",
           "zerolinewidth": 2
          },
          "yaxis": {
           "automargin": true,
           "gridcolor": "white",
           "linecolor": "white",
           "ticks": "",
           "title": {
            "standoff": 15
           },
           "zerolinecolor": "white",
           "zerolinewidth": 2
          }
         }
        },
        "title": {
         "text": "PCA Analysis of Phospho Data"
        },
        "width": 400,
        "xaxis": {
         "anchor": "y",
         "domain": [
          0,
          1
         ],
         "title": {
          "text": "PC 1 (11.98% Variance)"
         }
        },
        "yaxis": {
         "anchor": "x",
         "domain": [
          0,
          1
         ],
         "title": {
          "text": "PC 2 (5.93% Variance)"
         }
        }
       }
      }
     },
     "metadata": {},
     "output_type": "display_data"
    }
   ],
   "source": [
    "# PCA function\n",
    "from sklearn.decomposition import PCA\n",
    "from sklearn.preprocessing import StandardScaler\n",
    "from sklearn.impute import SimpleImputer\n",
    "import plotly.express as px\n",
    "\n",
    "\n",
    "def perform_pca_and_plot(df, title, metadata_df):\n",
    "    df = df.loc[df.index.intersection(metadata_df.index)]\n",
    "    labels = metadata_df.loc[df.index, 'Label']\n",
    "\n",
    "    imputer = SimpleImputer(strategy='mean')\n",
    "    df_pca_imputed = imputer.fit_transform(df)\n",
    "\n",
    "    scaler = StandardScaler()\n",
    "    df_pca_scaled = scaler.fit_transform(df_pca_imputed)\n",
    "\n",
    "    pca = PCA(n_components=2)\n",
    "    pca_result = pca.fit_transform(df_pca_scaled)\n",
    "    explained_variance = pca.explained_variance_ratio_ * 100\n",
    "\n",
    "    pca_df = pd.DataFrame(data=pca_result, columns=['PC1', 'PC2'], index=df.index)\n",
    "    pca_df['Label'] = labels.values\n",
    "\n",
    "    fig = px.scatter(\n",
    "        pca_df, x='PC1', y='PC2', color='Label', title=f'PCA of {title}',\n",
    "        labels={'color': 'Sample Label'}, hover_name=pca_df.index\n",
    "    )\n",
    "    fig.update_traces(marker=dict(size=10, line=dict(width=2, color='DarkSlateGrey')))\n",
    "    fig.update_layout(\n",
    "        autosize=False, width=400, height=300,\n",
    "        xaxis_title=f'PC 1 ({explained_variance[0]:.2f}% Variance)',\n",
    "        yaxis_title=f'PC 2 ({explained_variance[1]:.2f}% Variance)',\n",
    "        title=f'PCA Analysis of {title}'\n",
    "    )\n",
    "    fig.show()\n",
    "\n",
    "# Perform PCA on each dataset\n",
    "perform_pca_and_plot(mrna_df_t, 'RNA Data', metadata_df)\n",
    "perform_pca_and_plot(proteo_df_t, 'Protein Data', metadata_df)\n",
    "perform_pca_and_plot(phospho_df_t, 'Phospho Data', metadata_df)\n"
   ]
  }
 ],
 "metadata": {
  "editor": "DataLab",
  "kernelspec": {
   "display_name": ".venv",
   "language": "python",
   "name": "python3"
  },
  "language_info": {
   "codemirror_mode": {
    "name": "ipython",
    "version": 3
   },
   "file_extension": ".py",
   "mimetype": "text/x-python",
   "name": "python",
   "nbconvert_exporter": "python",
   "pygments_lexer": "ipython3",
   "version": "3.11.3"
  }
 },
 "nbformat": 4,
 "nbformat_minor": 5
}
