{
 "cells": [
  {
   "cell_type": "markdown",
   "metadata": {},
   "source": [
    "# Multiomics analysis\n",
    "\n",
    "\n",
    "**In this notebook you will find proteomics and phosphoproteomics data preprocessing for multiomics analysis**\n",
    "\n",
    "Proteomics and phosphoproteomics data was retrived from article [1] in which LUAD tumours and their non-cancerous adjacent tissues (NATs)\n",
    "\n",
    "https://pubmed.ncbi.nlm.nih.gov/32649877/ The phospho and proteo array , and csv has 2000 columns and 82 rows phospho and proteo is data for same tissues\n",
    "\n",
    "Top 2000 most variant features are selected in proteins and phosphoproteins' data , based on relative intensities.\n",
    "\n",
    "[1] Xu JY, Zhang C, Wang X, et al. Integrative proteomic characterization of human lung adenocarcinoma. Cell 2020;182(1):245-261.\n",
    "\n",
    "All features in proteomics and phosphoproteomics data of normal and tumour tissues are divided by their maximum for normalization. \n",
    "\n",
    "\n"
   ]
  }
 ],
 "metadata": {
  "kernelspec": {
   "display_name": "Python 3.9.12 ('.venv': venv)",
   "language": "python",
   "name": "python3"
  },
  "language_info": {
   "codemirror_mode": {
    "name": "ipython",
    "version": 3
   },
   "file_extension": ".py",
   "mimetype": "text/x-python",
   "name": "python",
   "nbconvert_exporter": "python",
   "pygments_lexer": "ipython3",
   "version": "3.9.12"
  },
  "vscode": {
   "interpreter": {
    "hash": "86bfcc733a99316639cfae738bd2c12342c3c5e2c4e3f470908e9f9639795c12"
   }
  }
 },
 "nbformat": 4,
 "nbformat_minor": 4
}
