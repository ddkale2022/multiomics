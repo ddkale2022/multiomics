{
 "cells": [
  {
   "cell_type": "markdown",
   "metadata": {},
   "source": [
    "# Multiomics analysis\n",
    "\n",
    "\n",
    "**In this notebook you will find proteomics and phosphoproteomics data preprocessing for multiomics analysis**\n",
    "\n",
    "Proteomics and phosphoproteomics data were obtained from the article [1], which examined LUAD tumors and their adjacent non-cancerous tissues (NATs).\n",
    "\n",
    "The study's phospho and proteo arrays, available in a CSV file, contain 2000 columns and 82 rows, with data for the same tissues.\n",
    "\n",
    "The 2000 most variable features in the protein and phosphoprotein data were selected based on their relative intensities.\n",
    "\n",
    "Reference:\n",
    "[1] Xu JY, Zhang C, Wang X, et al. Integrative proteomic characterization of human lung adenocarcinoma. Cell 2020;182(1):245-261.\n",
    "\n",
    "For normalization, all features in the proteomics and phosphoproteomics data from both normal and tumor tissues were divided by their respective maximum values.\n",
    "\n",
    "\n"
   ]
  }
 ],
 "metadata": {
  "kernelspec": {
   "display_name": "Python 3.9.12 ('.venv': venv)",
   "language": "python",
   "name": "python3"
  },
  "language_info": {
   "codemirror_mode": {
    "name": "ipython",
    "version": 3
   },
   "file_extension": ".py",
   "mimetype": "text/x-python",
   "name": "python",
   "nbconvert_exporter": "python",
   "pygments_lexer": "ipython3",
   "version": "3.9.12"
  },
  "vscode": {
   "interpreter": {
    "hash": "86bfcc733a99316639cfae738bd2c12342c3c5e2c4e3f470908e9f9639795c12"
   }
  }
 },
 "nbformat": 4,
 "nbformat_minor": 4
}
